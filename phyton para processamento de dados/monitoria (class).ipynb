{
 "cells": [
  {
   "cell_type": "code",
   "execution_count": 6,
   "metadata": {},
   "outputs": [],
   "source": [
    "class pessoas:\n",
    "    '''\n",
    "        Esta classe criará objeto pessoas \n",
    "    '''\n",
    "    def __init__(self, nome:str, idade:int):\n",
    "        self.nome = nome\n",
    "        self.idade = idade"
   ]
  },
  {
   "cell_type": "code",
   "execution_count": 7,
   "metadata": {},
   "outputs": [
    {
     "data": {
      "text/plain": [
       "'\\n        Esta classe criará objeto pessoas \\n    '"
      ]
     },
     "execution_count": 7,
     "metadata": {},
     "output_type": "execute_result"
    }
   ],
   "source": [
    "pessoas.__doc__"
   ]
  },
  {
   "cell_type": "code",
   "execution_count": 8,
   "metadata": {},
   "outputs": [],
   "source": [
    "usr = pessoas(nome=\"qualquer\", idade=\"2\")\n"
   ]
  },
  {
   "cell_type": "code",
   "execution_count": 9,
   "metadata": {},
   "outputs": [
    {
     "data": {
      "text/plain": [
       "('qualquer', '2')"
      ]
     },
     "execution_count": 9,
     "metadata": {},
     "output_type": "execute_result"
    }
   ],
   "source": [
    "usr.nome, usr.idade"
   ]
  },
  {
   "cell_type": "code",
   "execution_count": 10,
   "metadata": {},
   "outputs": [],
   "source": [
    "class pessoa:\n",
    "    '''\n",
    "        Esta classe criará objeto pessoas \n",
    "    '''\n",
    "    def __init__(self, nome:str, idade:int, peso:float, altura: float):\n",
    "        self.nome = nome\n",
    "        self.idade = idade\n",
    "        self.peso = peso\n",
    "        self.altuta = altura\n",
    "\n",
    "    def calculadora_IMC (self):\n",
    "        self.IMC = self.peso/ (self.altura * self.altura)\n"
   ]
  },
  {
   "cell_type": "code",
   "execution_count": 34,
   "metadata": {},
   "outputs": [],
   "source": [
    "class NEW_IMC(pessoas):\n",
    "\n",
    "    def __intt__(self, nome:str, idade: int, peso: float, altura: float):\n",
    "        super().__init__(nome, idade)\n",
    "        self.peso = peso\n",
    "        self.altura = altura\n",
    "        self.IMC = None\n",
    "    \n",
    "    def calcula_IMC (self):\n",
    "        self.IMC = self.peso / (self.altura * self.altura)\n",
    "    \n",
    "        return self.IMC"
   ]
  },
  {
   "cell_type": "code",
   "execution_count": 35,
   "metadata": {},
   "outputs": [],
   "source": [
    "usr = pessoas(nome = \"lais\", idade= 34)"
   ]
  },
  {
   "cell_type": "code",
   "execution_count": 36,
   "metadata": {},
   "outputs": [
    {
     "ename": "TypeError",
     "evalue": "pessoas.__init__() got an unexpected keyword argument 'peso'",
     "output_type": "error",
     "traceback": [
      "\u001b[1;31m---------------------------------------------------------------------------\u001b[0m",
      "\u001b[1;31mTypeError\u001b[0m                                 Traceback (most recent call last)",
      "Cell \u001b[1;32mIn[36], line 1\u001b[0m\n\u001b[1;32m----> 1\u001b[0m usr \u001b[39m=\u001b[39m NEW_IMC(nome \u001b[39m=\u001b[39;49m \u001b[39m\"\u001b[39;49m\u001b[39mlais\u001b[39;49m\u001b[39m\"\u001b[39;49m, idade\u001b[39m=\u001b[39;49m \u001b[39m34\u001b[39;49m, peso\u001b[39m=\u001b[39;49m \u001b[39m64\u001b[39;49m, altura\u001b[39m=\u001b[39;49m \u001b[39m1.71\u001b[39;49m)\n",
      "\u001b[1;31mTypeError\u001b[0m: pessoas.__init__() got an unexpected keyword argument 'peso'"
     ]
    }
   ],
   "source": [
    "usr = NEW_IMC(nome = \"lais\", idade= 34, peso= 64, altura= 1.71)"
   ]
  }
 ],
 "metadata": {
  "kernelspec": {
   "display_name": "Python 3",
   "language": "python",
   "name": "python3"
  },
  "language_info": {
   "codemirror_mode": {
    "name": "ipython",
    "version": 3
   },
   "file_extension": ".py",
   "mimetype": "text/x-python",
   "name": "python",
   "nbconvert_exporter": "python",
   "pygments_lexer": "ipython3",
   "version": "3.11.3"
  },
  "orig_nbformat": 4
 },
 "nbformat": 4,
 "nbformat_minor": 2
}
