{
 "cells": [
  {
   "cell_type": "code",
   "execution_count": 1,
   "metadata": {},
   "outputs": [
    {
     "ename": "NameError",
     "evalue": "name 'bigquery' is not defined",
     "output_type": "error",
     "traceback": [
      "\u001b[1;31m---------------------------------------------------------------------------\u001b[0m",
      "\u001b[1;31mNameError\u001b[0m                                 Traceback (most recent call last)",
      "Cell \u001b[1;32mIn[1], line 3\u001b[0m\n\u001b[0;32m      1\u001b[0m \u001b[39m# Only run the query if it's less than 1 MB\u001b[39;00m\n\u001b[0;32m      2\u001b[0m ONE_MB \u001b[39m=\u001b[39m \u001b[39m1000\u001b[39m\u001b[39m*\u001b[39m\u001b[39m1000\u001b[39m\n\u001b[1;32m----> 3\u001b[0m safe_config \u001b[39m=\u001b[39m bigquery\u001b[39m.\u001b[39mQueryJobConfig(maximum_bytes_billed\u001b[39m=\u001b[39mONE_MB)\n\u001b[0;32m      5\u001b[0m \u001b[39m# Set up the query (will only run if it's less than 1 MB)\u001b[39;00m\n\u001b[0;32m      6\u001b[0m safe_query_job \u001b[39m=\u001b[39m client\u001b[39m.\u001b[39mquery(query, job_config\u001b[39m=\u001b[39msafe_config)\n",
      "\u001b[1;31mNameError\u001b[0m: name 'bigquery' is not defined"
     ]
    }
   ],
   "source": [
    "'/* é um jeito de limitar a quantidade de dados para consulta em grandes databases*/'\n",
    "\n",
    "# Only run the query if it's less than 1 MB\n",
    "ONE_MB = 1000*1000\n",
    "safe_config = bigquery.QueryJobConfig(maximum_bytes_billed=ONE_MB)\n",
    "\n",
    "# Set up the query (will only run if it's less than 1 MB)\n",
    "safe_query_job = client.query(query, job_config=safe_config)\n",
    "\n",
    "# API request - try to run the query, and return a pandas DataFrame\n",
    "safe_query_job.to_dataframe()"
   ]
  },
  {
   "cell_type": "code",
   "execution_count": null,
   "metadata": {},
   "outputs": [],
   "source": []
  },
  {
   "cell_type": "code",
   "execution_count": null,
   "metadata": {},
   "outputs": [],
   "source": []
  }
 ],
 "metadata": {
  "kernelspec": {
   "display_name": "Python 3",
   "language": "python",
   "name": "python3"
  },
  "language_info": {
   "codemirror_mode": {
    "name": "ipython",
    "version": 3
   },
   "file_extension": ".py",
   "mimetype": "text/x-python",
   "name": "python",
   "nbconvert_exporter": "python",
   "pygments_lexer": "ipython3",
   "version": "3.11.3"
  },
  "orig_nbformat": 4
 },
 "nbformat": 4,
 "nbformat_minor": 2
}
