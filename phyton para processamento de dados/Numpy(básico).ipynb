{
  "nbformat": 4,
  "nbformat_minor": 0,
  "metadata": {
    "colab": {
      "provenance": [],
      "authorship_tag": "ABX9TyNWUDFURDZVUwqhiBBea0Lu",
      "include_colab_link": true
    },
    "kernelspec": {
      "name": "python3",
      "display_name": "Python 3"
    },
    "language_info": {
      "name": "python"
    }
  },
  "cells": [
    {
      "cell_type": "markdown",
      "metadata": {
        "id": "view-in-github",
        "colab_type": "text"
      },
      "source": [
        "<a href=\"https://colab.research.google.com/github/CharlesPrado23/Bootcamp_TurmaNoite/blob/main/Conteudo_02/Numpy(b%C3%A1sico).ipynb\" target=\"_parent\"><img src=\"https://colab.research.google.com/assets/colab-badge.svg\" alt=\"Open In Colab\"/></a>"
      ]
    },
    {
      "cell_type": "code",
      "execution_count": null,
      "metadata": {
        "id": "MawOOdLDtmT7"
      },
      "outputs": [],
      "source": [
        "import numpy as np\n",
        "import time\n"
      ]
    },
    {
      "cell_type": "code",
      "source": [
        "my_arr = np.arange(1000000)\n",
        "my_list = list(range(1000000))"
      ],
      "metadata": {
        "id": "z3FxhbYQtsr0"
      },
      "execution_count": null,
      "outputs": []
    },
    {
      "cell_type": "code",
      "source": [
        "my_arr"
      ],
      "metadata": {
        "colab": {
          "base_uri": "https://localhost:8080/"
        },
        "id": "eyxe_BKuzz0l",
        "outputId": "b75fa973-09a5-4d30-e7dc-9da317aecbac"
      },
      "execution_count": null,
      "outputs": [
        {
          "output_type": "execute_result",
          "data": {
            "text/plain": [
              "array([     0,      1,      2, ..., 999997, 999998, 999999])"
            ]
          },
          "metadata": {},
          "execution_count": 3
        }
      ]
    },
    {
      "cell_type": "code",
      "source": [
        "my_list"
      ],
      "metadata": {
        "id": "KXDOnGNJz5a0"
      },
      "execution_count": null,
      "outputs": []
    },
    {
      "cell_type": "code",
      "source": [
        "t0 = time.time()\n",
        "for _ in range(100): \n",
        "  my_arr2 = my_arr * 2\n",
        "t1 = time.time() - t0\n",
        "print(t1)"
      ],
      "metadata": {
        "colab": {
          "base_uri": "https://localhost:8080/"
        },
        "id": "eIDGZ9f0tyON",
        "outputId": "9e3a763b-278e-4f1b-8b15-bd928e9f27e3"
      },
      "execution_count": null,
      "outputs": [
        {
          "output_type": "stream",
          "name": "stdout",
          "text": [
            "0.05203056335449219\n"
          ]
        }
      ]
    },
    {
      "cell_type": "code",
      "source": [
        "t0 = time.time()\n",
        "for _ in range(100): \n",
        "  my_list2 = [x * 2 for x in my_list]\n",
        "t1 = time.time() - t0\n",
        "print(t1)"
      ],
      "metadata": {
        "colab": {
          "base_uri": "https://localhost:8080/"
        },
        "id": "_ghU-RQRt408",
        "outputId": "de1a39b2-f4c0-4282-c751-4aef40e37dcb"
      },
      "execution_count": null,
      "outputs": [
        {
          "output_type": "stream",
          "name": "stdout",
          "text": [
            "4.902782678604126\n"
          ]
        }
      ]
    },
    {
      "cell_type": "code",
      "source": [
        "data = np.random.randn(2, 3)\n",
        "data"
      ],
      "metadata": {
        "colab": {
          "base_uri": "https://localhost:8080/"
        },
        "id": "qAKxl6H2uD2I",
        "outputId": "916b7ed6-9114-464c-d9a9-6f778445c001"
      },
      "execution_count": null,
      "outputs": [
        {
          "output_type": "execute_result",
          "data": {
            "text/plain": [
              "array([[-1.4811108 ,  1.1986469 ,  0.21854508],\n",
              "       [-0.47422791, -0.7643004 , -0.76841713]])"
            ]
          },
          "metadata": {},
          "execution_count": 7
        }
      ]
    },
    {
      "cell_type": "code",
      "source": [
        "data2 = [[1, 2, 3, 4], [5, 6, 7, 8]]\n",
        "\n",
        "arr2 = np.array(data2)\n",
        "arr2"
      ],
      "metadata": {
        "colab": {
          "base_uri": "https://localhost:8080/"
        },
        "id": "paCzFSuPuKiD",
        "outputId": "288df769-340e-4213-d311-470fe901383a"
      },
      "execution_count": null,
      "outputs": [
        {
          "output_type": "execute_result",
          "data": {
            "text/plain": [
              "array([[1, 2, 3, 4],\n",
              "       [5, 6, 7, 8]])"
            ]
          },
          "metadata": {},
          "execution_count": 8
        }
      ]
    },
    {
      "cell_type": "code",
      "source": [
        "arr2.shape\n"
      ],
      "metadata": {
        "colab": {
          "base_uri": "https://localhost:8080/"
        },
        "id": "__iMm9MvuNkl",
        "outputId": "bb1bfedf-f6a6-49b4-80f3-dcc3e516e71f"
      },
      "execution_count": null,
      "outputs": [
        {
          "output_type": "execute_result",
          "data": {
            "text/plain": [
              "(2, 4)"
            ]
          },
          "metadata": {},
          "execution_count": 9
        }
      ]
    },
    {
      "cell_type": "code",
      "source": [
        "arr2.ndim"
      ],
      "metadata": {
        "colab": {
          "base_uri": "https://localhost:8080/"
        },
        "id": "bDOS_xBmuOd0",
        "outputId": "fe3a9274-b674-446a-efde-496d0a80d078"
      },
      "execution_count": null,
      "outputs": [
        {
          "output_type": "execute_result",
          "data": {
            "text/plain": [
              "2"
            ]
          },
          "metadata": {},
          "execution_count": 10
        }
      ]
    },
    {
      "cell_type": "code",
      "source": [
        "arr1 = np.array([1, 2, 3], dtype=np.float64)\n",
        "arr2 = np.array([1, 2, 3], dtype=np.int32)\n",
        "print(arr1.dtype)\n",
        "print(arr2.dtype)"
      ],
      "metadata": {
        "colab": {
          "base_uri": "https://localhost:8080/"
        },
        "id": "pTUjSRwxuTAg",
        "outputId": "53a1db71-d269-4b68-d203-2e70f24aab6d"
      },
      "execution_count": null,
      "outputs": [
        {
          "output_type": "stream",
          "name": "stdout",
          "text": [
            "float64\n",
            "int32\n"
          ]
        }
      ]
    },
    {
      "cell_type": "code",
      "source": [
        "arr = np.array([1, 2, 3, 4, 5])"
      ],
      "metadata": {
        "id": "llq5nirf7S1y"
      },
      "execution_count": null,
      "outputs": []
    },
    {
      "cell_type": "code",
      "source": [
        "arr.dtype"
      ],
      "metadata": {
        "colab": {
          "base_uri": "https://localhost:8080/"
        },
        "id": "Josc-htU7Sj8",
        "outputId": "ad524ec0-4995-44ec-c36e-61d7d577a699"
      },
      "execution_count": null,
      "outputs": [
        {
          "output_type": "execute_result",
          "data": {
            "text/plain": [
              "dtype('int64')"
            ]
          },
          "metadata": {},
          "execution_count": 13
        }
      ]
    },
    {
      "cell_type": "code",
      "source": [
        "arr = np.array([1, 2, 3, 4, 5])\n",
        "float_arr = arr.astype(np.float64)\n",
        "float_arr.dtype"
      ],
      "metadata": {
        "colab": {
          "base_uri": "https://localhost:8080/"
        },
        "id": "su5xiuzBuWtp",
        "outputId": "3f20633f-2c0c-409a-d583-4f354ecad67f"
      },
      "execution_count": null,
      "outputs": [
        {
          "output_type": "execute_result",
          "data": {
            "text/plain": [
              "dtype('float64')"
            ]
          },
          "metadata": {},
          "execution_count": 14
        }
      ]
    },
    {
      "cell_type": "code",
      "source": [
        "#arr = np.array([[1., 2., 3.], [4., 5., 6.]])\n",
        "arr1 = np.array([1,2,3])\n",
        "arr2 = np.array([3,2,1])\n",
        "print(arr1 * arr2)\n",
        "print(arr1 - arr2)"
      ],
      "metadata": {
        "colab": {
          "base_uri": "https://localhost:8080/"
        },
        "id": "zHjse2jkuacS",
        "outputId": "9a51d9f5-ebd8-4fc9-bb9b-42b56e78cc97"
      },
      "execution_count": null,
      "outputs": [
        {
          "output_type": "stream",
          "name": "stdout",
          "text": [
            "[3 4 3]\n",
            "[-2  0  2]\n"
          ]
        }
      ]
    },
    {
      "cell_type": "code",
      "source": [
        "np.max(arr1)"
      ],
      "metadata": {
        "colab": {
          "base_uri": "https://localhost:8080/"
        },
        "id": "NK0rx6cE-TlZ",
        "outputId": "7372da44-e356-4180-fbcb-82acd0a02869"
      },
      "execution_count": null,
      "outputs": [
        {
          "output_type": "execute_result",
          "data": {
            "text/plain": [
              "3"
            ]
          },
          "metadata": {},
          "execution_count": 33
        }
      ]
    },
    {
      "cell_type": "code",
      "source": [
        "A = [1, 2, 3, 4]\n",
        "B = [4, 5, 6, 7]\n",
        "A-B"
      ],
      "metadata": {
        "colab": {
          "base_uri": "https://localhost:8080/",
          "height": 201
        },
        "id": "5ngw-89575FM",
        "outputId": "fd63688e-2c81-47f7-d966-38b1b20d426d"
      },
      "execution_count": null,
      "outputs": [
        {
          "output_type": "error",
          "ename": "TypeError",
          "evalue": "ignored",
          "traceback": [
            "\u001b[0;31m---------------------------------------------------------------------------\u001b[0m",
            "\u001b[0;31mTypeError\u001b[0m                                 Traceback (most recent call last)",
            "\u001b[0;32m<ipython-input-32-dd3c9969a8f1>\u001b[0m in \u001b[0;36m<cell line: 3>\u001b[0;34m()\u001b[0m\n\u001b[1;32m      1\u001b[0m \u001b[0mA\u001b[0m \u001b[0;34m=\u001b[0m \u001b[0;34m[\u001b[0m\u001b[0;36m1\u001b[0m\u001b[0;34m,\u001b[0m \u001b[0;36m2\u001b[0m\u001b[0;34m,\u001b[0m \u001b[0;36m3\u001b[0m\u001b[0;34m,\u001b[0m \u001b[0;36m4\u001b[0m\u001b[0;34m]\u001b[0m\u001b[0;34m\u001b[0m\u001b[0;34m\u001b[0m\u001b[0m\n\u001b[1;32m      2\u001b[0m \u001b[0mB\u001b[0m \u001b[0;34m=\u001b[0m \u001b[0;34m[\u001b[0m\u001b[0;36m4\u001b[0m\u001b[0;34m,\u001b[0m \u001b[0;36m5\u001b[0m\u001b[0;34m,\u001b[0m \u001b[0;36m6\u001b[0m\u001b[0;34m,\u001b[0m \u001b[0;36m7\u001b[0m\u001b[0;34m]\u001b[0m\u001b[0;34m\u001b[0m\u001b[0;34m\u001b[0m\u001b[0m\n\u001b[0;32m----> 3\u001b[0;31m \u001b[0mA\u001b[0m\u001b[0;34m-\u001b[0m\u001b[0mB\u001b[0m\u001b[0;34m\u001b[0m\u001b[0;34m\u001b[0m\u001b[0m\n\u001b[0m",
            "\u001b[0;31mTypeError\u001b[0m: unsupported operand type(s) for -: 'list' and 'list'"
          ]
        }
      ]
    },
    {
      "cell_type": "code",
      "source": [
        "arr1 = np.array([1,2,3])\n",
        "arr1"
      ],
      "metadata": {
        "colab": {
          "base_uri": "https://localhost:8080/"
        },
        "id": "D-muj2z574zv",
        "outputId": "28b75b85-0bda-431b-8d6b-c0b716c95c3c"
      },
      "execution_count": null,
      "outputs": [
        {
          "output_type": "execute_result",
          "data": {
            "text/plain": [
              "array([1, 2, 3])"
            ]
          },
          "metadata": {},
          "execution_count": 27
        }
      ]
    },
    {
      "cell_type": "code",
      "source": [
        "arr1+=2\n",
        "arr1"
      ],
      "metadata": {
        "colab": {
          "base_uri": "https://localhost:8080/"
        },
        "id": "xR1GV8048mDl",
        "outputId": "90bc655d-2532-471c-9532-35bcc9799d0a"
      },
      "execution_count": null,
      "outputs": [
        {
          "output_type": "execute_result",
          "data": {
            "text/plain": [
              "array([7, 8, 9])"
            ]
          },
          "metadata": {},
          "execution_count": 30
        }
      ]
    },
    {
      "cell_type": "code",
      "source": [
        "arr1*2"
      ],
      "metadata": {
        "colab": {
          "base_uri": "https://localhost:8080/"
        },
        "id": "IRPcRs-874j_",
        "outputId": "d5aa75af-c2c8-4f9a-8335-8f4836d6ae44"
      },
      "execution_count": null,
      "outputs": [
        {
          "output_type": "execute_result",
          "data": {
            "text/plain": [
              "array([2, 4, 6])"
            ]
          },
          "metadata": {},
          "execution_count": 20
        }
      ]
    },
    {
      "cell_type": "code",
      "source": [],
      "metadata": {
        "id": "AntuHIKC8Omi"
      },
      "execution_count": null,
      "outputs": []
    },
    {
      "cell_type": "code",
      "source": [
        "arr = np.array([[1, 2, 3], [4, 5, 6]])\n",
        "arr2 = np.array([[0., 4., 1.], [7., 2., 12.]])\n",
        "arr2 > arr"
      ],
      "metadata": {
        "colab": {
          "base_uri": "https://localhost:8080/"
        },
        "id": "IhtqwIlFuiJj",
        "outputId": "dc5d0e76-5295-43ea-a607-5fa00cd0f175"
      },
      "execution_count": null,
      "outputs": [
        {
          "output_type": "execute_result",
          "data": {
            "text/plain": [
              "array([[False,  True, False],\n",
              "       [ True, False,  True]])"
            ]
          },
          "metadata": {},
          "execution_count": 15
        }
      ]
    },
    {
      "cell_type": "code",
      "source": [
        "arr"
      ],
      "metadata": {
        "colab": {
          "base_uri": "https://localhost:8080/"
        },
        "id": "MKLo8pfFA9l3",
        "outputId": "f521eb15-bfc2-4a82-e554-93302ab2b66e"
      },
      "execution_count": null,
      "outputs": [
        {
          "output_type": "execute_result",
          "data": {
            "text/plain": [
              "array([[1, 2, 3],\n",
              "       [4, 5, 6]])"
            ]
          },
          "metadata": {},
          "execution_count": 16
        }
      ]
    },
    {
      "cell_type": "code",
      "source": [
        "arr = np.arange(10)\n",
        "print(arr)"
      ],
      "metadata": {
        "colab": {
          "base_uri": "https://localhost:8080/"
        },
        "id": "1zGI4W5CBWb4",
        "outputId": "bad29139-5864-4e62-cf93-1d4d7f21aabc"
      },
      "execution_count": null,
      "outputs": [
        {
          "output_type": "stream",
          "name": "stdout",
          "text": [
            "[0 1 2 3 4 5 6 7 8 9]\n"
          ]
        }
      ]
    },
    {
      "cell_type": "code",
      "source": [
        "arr_slice = arr[5:8]\n",
        "arr_slice"
      ],
      "metadata": {
        "colab": {
          "base_uri": "https://localhost:8080/"
        },
        "id": "UmIj5YYVukdm",
        "outputId": "1ff026cc-a8c1-4b40-c31e-3f051e5fd2ea"
      },
      "execution_count": null,
      "outputs": [
        {
          "output_type": "execute_result",
          "data": {
            "text/plain": [
              "array([5, 6, 7])"
            ]
          },
          "metadata": {},
          "execution_count": 18
        }
      ]
    },
    {
      "cell_type": "code",
      "source": [
        "arr = np.random.randn(5, 4)\n",
        "print(arr)"
      ],
      "metadata": {
        "colab": {
          "base_uri": "https://localhost:8080/"
        },
        "id": "OBu4YJqNvGxH",
        "outputId": "d7a60688-8a89-4601-da04-b335eb6d60a3"
      },
      "execution_count": null,
      "outputs": [
        {
          "output_type": "stream",
          "name": "stdout",
          "text": [
            "[[-0.76799151  0.02267671  0.81468943 -1.98775592]\n",
            " [-0.1164595  -1.28094492  1.31066622  0.29667913]\n",
            " [ 0.66580368  0.14232448 -0.93367894  0.47060114]\n",
            " [-1.0606029  -0.1139453   0.82351892  0.96357761]\n",
            " [ 0.52641861 -1.96464848  0.17986599  0.47885677]]\n"
          ]
        }
      ]
    },
    {
      "cell_type": "code",
      "source": [
        "np.mean(arr[1])"
      ],
      "metadata": {
        "colab": {
          "base_uri": "https://localhost:8080/"
        },
        "id": "D2SBhqgYD7AL",
        "outputId": "2d29555c-3925-45aa-9ab3-cd7ff7b18b32"
      },
      "execution_count": null,
      "outputs": [
        {
          "output_type": "execute_result",
          "data": {
            "text/plain": [
              "-0.26676380363830743"
            ]
          },
          "metadata": {},
          "execution_count": 24
        }
      ]
    },
    {
      "cell_type": "code",
      "source": [
        "len(arr)"
      ],
      "metadata": {
        "colab": {
          "base_uri": "https://localhost:8080/"
        },
        "id": "EIiJdxzdEiSI",
        "outputId": "96d9ca04-2427-4049-e6cc-1143cb795efa"
      },
      "execution_count": null,
      "outputs": [
        {
          "output_type": "execute_result",
          "data": {
            "text/plain": [
              "5"
            ]
          },
          "metadata": {},
          "execution_count": 25
        }
      ]
    },
    {
      "cell_type": "code",
      "source": [
        "def func_mean(matrix):\n",
        "  soma = 0\n",
        "  count = 0\n",
        "  for x in matrix:\n",
        "    for y in x:   \n",
        "      soma+=y\n",
        "      count+=1\n",
        "  return soma/(arr.shape[0]*arr.shape[1])   "
      ],
      "metadata": {
        "id": "jhwROU6TDR1b"
      },
      "execution_count": null,
      "outputs": []
    },
    {
      "cell_type": "code",
      "source": [
        "arr.shape[1]"
      ],
      "metadata": {
        "colab": {
          "base_uri": "https://localhost:8080/"
        },
        "id": "2aVe9R0hF3LN",
        "outputId": "d1c83747-2cd6-423a-d002-df545d24dbe9"
      },
      "execution_count": null,
      "outputs": [
        {
          "output_type": "execute_result",
          "data": {
            "text/plain": [
              "4"
            ]
          },
          "metadata": {},
          "execution_count": 39
        }
      ]
    },
    {
      "cell_type": "code",
      "source": [
        "func_mean(arr)"
      ],
      "metadata": {
        "colab": {
          "base_uri": "https://localhost:8080/"
        },
        "id": "71J9yDdXDg0a",
        "outputId": "5cce1f12-ef00-4efc-ed03-65e59b0f1d5b"
      },
      "execution_count": null,
      "outputs": [
        {
          "output_type": "execute_result",
          "data": {
            "text/plain": [
              "-0.07651743807299083"
            ]
          },
          "metadata": {},
          "execution_count": 41
        }
      ]
    },
    {
      "cell_type": "code",
      "source": [
        "arr.mean()"
      ],
      "metadata": {
        "colab": {
          "base_uri": "https://localhost:8080/"
        },
        "id": "kJOdRntRpr4c",
        "outputId": "8bf33cd2-4b66-4d40-cbc9-66c74e614d40"
      },
      "execution_count": null,
      "outputs": [
        {
          "output_type": "execute_result",
          "data": {
            "text/plain": [
              "-0.07651743807299086"
            ]
          },
          "metadata": {},
          "execution_count": 35
        }
      ]
    },
    {
      "cell_type": "code",
      "source": [
        "arr.mean(axis=0)"
      ],
      "metadata": {
        "colab": {
          "base_uri": "https://localhost:8080/"
        },
        "id": "EMEwcVr6vKaK",
        "outputId": "0e9d81e5-89a9-4c15-b8b6-b20e8ae4ebb2"
      },
      "execution_count": null,
      "outputs": [
        {
          "output_type": "execute_result",
          "data": {
            "text/plain": [
              "array([-0.15056632, -0.6389075 ,  0.43901233,  0.04439175])"
            ]
          },
          "metadata": {},
          "execution_count": 42
        }
      ]
    },
    {
      "cell_type": "code",
      "source": [
        "arr.max(axis=0)"
      ],
      "metadata": {
        "colab": {
          "base_uri": "https://localhost:8080/"
        },
        "id": "i2UDePnKHwOs",
        "outputId": "a7dfb945-e08b-48df-aac4-9c110e65a02e"
      },
      "execution_count": null,
      "outputs": [
        {
          "output_type": "execute_result",
          "data": {
            "text/plain": [
              "array([0.66580368, 0.14232448, 1.31066622, 0.96357761])"
            ]
          },
          "metadata": {},
          "execution_count": 45
        }
      ]
    },
    {
      "cell_type": "code",
      "source": [
        "arr.sum()"
      ],
      "metadata": {
        "colab": {
          "base_uri": "https://localhost:8080/"
        },
        "id": "ovofS0-cvK9i",
        "outputId": "6d316279-aa51-4f45-ca12-b1783550d2b0"
      },
      "execution_count": null,
      "outputs": [
        {
          "output_type": "execute_result",
          "data": {
            "text/plain": [
              "-1.530348761459817"
            ]
          },
          "metadata": {},
          "execution_count": 48
        }
      ]
    },
    {
      "cell_type": "markdown",
      "metadata": {
        "id": "7uuadaB8nExL"
      },
      "source": [
        "![Screen Shot 2021-02-08 at 6.46.16 PM.png](data:image/png;base64,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)"
      ]
    },
    {
      "cell_type": "markdown",
      "metadata": {
        "id": "3pweDR6yniCN"
      },
      "source": [
        "![Screen Shot 2021-02-08 at 6.48.21 PM.png](data:image/png;base64,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)"
      ]
    },
    {
      "cell_type": "markdown",
      "metadata": {
        "id": "_c5a6YOTLqiv"
      },
      "source": [
        "![image.png](data:image/png;base64,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)"
      ]
    },
    {
      "cell_type": "code",
      "source": [
        "A = np.array([[0,1,2],[3,4,5],[6,7,8]])\n",
        "print(A.shape)\n",
        "B = A #A and B reference the _same_ object\n",
        "A is B"
      ],
      "metadata": {
        "colab": {
          "base_uri": "https://localhost:8080/"
        },
        "id": "ORtUWN7ZvbpZ",
        "outputId": "8146f9a2-8716-4e41-8b10-9513178f2e67"
      },
      "execution_count": null,
      "outputs": [
        {
          "output_type": "stream",
          "name": "stdout",
          "text": [
            "(3, 3)\n"
          ]
        },
        {
          "output_type": "execute_result",
          "data": {
            "text/plain": [
              "True"
            ]
          },
          "metadata": {},
          "execution_count": 49
        }
      ]
    },
    {
      "cell_type": "code",
      "source": [
        "A"
      ],
      "metadata": {
        "colab": {
          "base_uri": "https://localhost:8080/"
        },
        "id": "p6LNGfXtLnbO",
        "outputId": "353c674c-efd6-429d-ed16-56c87d4879ab"
      },
      "execution_count": null,
      "outputs": [
        {
          "output_type": "execute_result",
          "data": {
            "text/plain": [
              "array([[0, 1, 2],\n",
              "       [3, 4, 5],\n",
              "       [6, 7, 8]])"
            ]
          },
          "metadata": {},
          "execution_count": 50
        }
      ]
    },
    {
      "cell_type": "code",
      "source": [
        "B"
      ],
      "metadata": {
        "colab": {
          "base_uri": "https://localhost:8080/"
        },
        "id": "uVP5GBYhLpFB",
        "outputId": "971dd16a-a336-4824-8f80-d77e3c73e76e"
      },
      "execution_count": null,
      "outputs": [
        {
          "output_type": "execute_result",
          "data": {
            "text/plain": [
              "array([[0, 1, 2],\n",
              "       [3, 4, 5],\n",
              "       [6, 7, 8]])"
            ]
          },
          "metadata": {},
          "execution_count": 51
        }
      ]
    },
    {
      "cell_type": "code",
      "source": [
        "B[0,0] = 1000\n",
        "B"
      ],
      "metadata": {
        "colab": {
          "base_uri": "https://localhost:8080/"
        },
        "id": "wgYwPibtvk1Q",
        "outputId": "7a42e2a4-0778-457f-95d5-cffcfbf0fd51"
      },
      "execution_count": null,
      "outputs": [
        {
          "output_type": "execute_result",
          "data": {
            "text/plain": [
              "array([[1000,    1,    2],\n",
              "       [   3,    4,    5],\n",
              "       [   6,    7,    8]])"
            ]
          },
          "metadata": {},
          "execution_count": 52
        }
      ]
    },
    {
      "cell_type": "code",
      "source": [
        "A"
      ],
      "metadata": {
        "colab": {
          "base_uri": "https://localhost:8080/"
        },
        "id": "f3EK78btvd99",
        "outputId": "5eb00703-d825-44b8-c0a6-14da2e2eee6f"
      },
      "execution_count": null,
      "outputs": [
        {
          "output_type": "execute_result",
          "data": {
            "text/plain": [
              "array([[1000,    1,    2],\n",
              "       [   3,    4,    5],\n",
              "       [   6,    7,    8]])"
            ]
          },
          "metadata": {},
          "execution_count": 53
        }
      ]
    },
    {
      "cell_type": "code",
      "source": [
        "A"
      ],
      "metadata": {
        "colab": {
          "base_uri": "https://localhost:8080/"
        },
        "id": "qwBRvrYhMASf",
        "outputId": "6cd556b8-6a57-4ff9-c77e-19ae4ff22474"
      },
      "execution_count": null,
      "outputs": [
        {
          "output_type": "execute_result",
          "data": {
            "text/plain": [
              "array([[1000,    1,    2],\n",
              "       [   3,    4,    5],\n",
              "       [   6,    7,    8]])"
            ]
          },
          "metadata": {},
          "execution_count": 54
        }
      ]
    },
    {
      "cell_type": "code",
      "source": [
        "newMat = A.copy()\n",
        "newMat"
      ],
      "metadata": {
        "colab": {
          "base_uri": "https://localhost:8080/"
        },
        "id": "ePAvTKRdMDoD",
        "outputId": "281a0867-94fa-45a1-f16c-b72c1316ad79"
      },
      "execution_count": null,
      "outputs": [
        {
          "output_type": "execute_result",
          "data": {
            "text/plain": [
              "array([[1000,    1,    2],\n",
              "       [   3,    4,    5],\n",
              "       [   6,    7,    8]])"
            ]
          },
          "metadata": {},
          "execution_count": 55
        }
      ]
    },
    {
      "cell_type": "code",
      "source": [
        "newMat[0,0] = 0\n",
        "newMat"
      ],
      "metadata": {
        "colab": {
          "base_uri": "https://localhost:8080/"
        },
        "id": "jgTbkMWxMI-k",
        "outputId": "4ddc93ea-5adc-4c86-d1b8-cf28f6ba7b6d"
      },
      "execution_count": null,
      "outputs": [
        {
          "output_type": "execute_result",
          "data": {
            "text/plain": [
              "array([[0, 1, 2],\n",
              "       [3, 4, 5],\n",
              "       [6, 7, 8]])"
            ]
          },
          "metadata": {},
          "execution_count": 56
        }
      ]
    },
    {
      "cell_type": "code",
      "source": [
        "A"
      ],
      "metadata": {
        "colab": {
          "base_uri": "https://localhost:8080/"
        },
        "id": "rQNuAwQjMO9x",
        "outputId": "cfa987cc-dbcf-46cf-f204-e39368afdd29"
      },
      "execution_count": null,
      "outputs": [
        {
          "output_type": "execute_result",
          "data": {
            "text/plain": [
              "array([[1000,    1,    2],\n",
              "       [   3,    4,    5],\n",
              "       [   6,    7,    8]])"
            ]
          },
          "metadata": {},
          "execution_count": 57
        }
      ]
    },
    {
      "cell_type": "code",
      "source": [],
      "metadata": {
        "id": "sQw7crXtMO1t"
      },
      "execution_count": null,
      "outputs": []
    },
    {
      "cell_type": "code",
      "source": [
        "newMat = A.copy() #this will actually copy the data\n",
        "newMat[0,0] = 0\n",
        "A"
      ],
      "metadata": {
        "colab": {
          "base_uri": "https://localhost:8080/"
        },
        "id": "iFkAFVMTvn1B",
        "outputId": "239d69cc-2037-409e-93ac-cbc6ba2ca286"
      },
      "execution_count": null,
      "outputs": [
        {
          "output_type": "execute_result",
          "data": {
            "text/plain": [
              "array([[1000,    1,    2],\n",
              "       [   3,    4,    5],\n",
              "       [   6,    7,    8]])"
            ]
          },
          "metadata": {},
          "execution_count": 5
        }
      ]
    },
    {
      "cell_type": "code",
      "source": [
        "newMat"
      ],
      "metadata": {
        "colab": {
          "base_uri": "https://localhost:8080/"
        },
        "id": "Zy81uduIwlJi",
        "outputId": "fb656655-4f9c-4028-90c1-2ac33e77e456"
      },
      "execution_count": null,
      "outputs": [
        {
          "output_type": "execute_result",
          "data": {
            "text/plain": [
              "array([[0, 1, 2],\n",
              "       [3, 4, 5],\n",
              "       [6, 7, 8]])"
            ]
          },
          "metadata": {},
          "execution_count": 6
        }
      ]
    },
    {
      "cell_type": "code",
      "source": [
        "### copy ###\n",
        "A = np.array([[0,1,2],[3,4,5],[6,7,8]])\n",
        "B = A[A > 4]\n",
        "B"
      ],
      "metadata": {
        "colab": {
          "base_uri": "https://localhost:8080/"
        },
        "id": "ngP12VZTvqjM",
        "outputId": "2c81bc5b-50d4-4b94-a5ee-75a10c1d2143"
      },
      "execution_count": null,
      "outputs": [
        {
          "output_type": "execute_result",
          "data": {
            "text/plain": [
              "array([5, 6, 7, 8])"
            ]
          },
          "metadata": {},
          "execution_count": 58
        }
      ]
    },
    {
      "cell_type": "code",
      "source": [
        "A[A > 4]"
      ],
      "metadata": {
        "colab": {
          "base_uri": "https://localhost:8080/"
        },
        "id": "H2wAlO_cM3qW",
        "outputId": "31dadb4c-4746-4e65-a770-d8b3cfbf127d"
      },
      "execution_count": null,
      "outputs": [
        {
          "output_type": "execute_result",
          "data": {
            "text/plain": [
              "array([5, 6, 7, 8])"
            ]
          },
          "metadata": {},
          "execution_count": 60
        }
      ]
    },
    {
      "cell_type": "code",
      "source": [
        "A"
      ],
      "metadata": {
        "colab": {
          "base_uri": "https://localhost:8080/"
        },
        "id": "LB2sY6fI1i24",
        "outputId": "5e494c3e-cf21-46fb-c65d-68f8b84d65d2"
      },
      "execution_count": null,
      "outputs": [
        {
          "output_type": "execute_result",
          "data": {
            "text/plain": [
              "array([[0, 1, 2],\n",
              "       [3, 4, 5],\n",
              "       [6, 7, 8]])"
            ]
          },
          "metadata": {},
          "execution_count": 59
        }
      ]
    },
    {
      "cell_type": "code",
      "source": [
        "A[A > 4] = -1\n",
        "A"
      ],
      "metadata": {
        "colab": {
          "base_uri": "https://localhost:8080/"
        },
        "id": "-gjApg6Ivt-S",
        "outputId": "e8b53402-8137-4237-8c0e-1749b0441f1a"
      },
      "execution_count": null,
      "outputs": [
        {
          "output_type": "execute_result",
          "data": {
            "text/plain": [
              "array([[ 0,  1,  2],\n",
              "       [ 3,  4, -1],\n",
              "       [-1, -1, -1]])"
            ]
          },
          "metadata": {},
          "execution_count": 9
        }
      ]
    },
    {
      "cell_type": "code",
      "source": [],
      "metadata": {
        "id": "wfvGl7Aw7LaV"
      },
      "execution_count": null,
      "outputs": []
    },
    {
      "cell_type": "markdown",
      "metadata": {
        "id": "rgPnHOV8dG70"
      },
      "source": [
        "## Structured Data: Numpy´s Structured Arrays"
      ]
    },
    {
      "cell_type": "code",
      "metadata": {
        "id": "maTtj4G1dG70"
      },
      "source": [
        "import numpy as np\n",
        "name = ['Alice','Bob', 'Cathy','Doug']\n",
        "age = [25,45,37,19]\n",
        "weight = [55.0,85.5,68.0,61.5]"
      ],
      "execution_count": null,
      "outputs": []
    },
    {
      "cell_type": "code",
      "metadata": {
        "id": "NGUxb8TRdG71"
      },
      "source": [
        "# Compound data type for structured arrays \n",
        "data = np.zeros(4,dtype={'names':('name','age','weight'),'formats':('U10','i4','f8') })"
      ],
      "execution_count": null,
      "outputs": []
    },
    {
      "cell_type": "code",
      "metadata": {
        "colab": {
          "base_uri": "https://localhost:8080/"
        },
        "id": "S8PcnDRFdG72",
        "outputId": "5a193276-e0e0-4ad8-adf7-e6997d098568"
      },
      "source": [
        "data.dtype"
      ],
      "execution_count": null,
      "outputs": [
        {
          "output_type": "execute_result",
          "data": {
            "text/plain": [
              "dtype([('name', '<U10'), ('age', '<i4'), ('weight', '<f8')])"
            ]
          },
          "metadata": {},
          "execution_count": 4
        }
      ]
    },
    {
      "cell_type": "code",
      "metadata": {
        "colab": {
          "base_uri": "https://localhost:8080/"
        },
        "id": "X25j3qSedG72",
        "outputId": "69849450-eae4-48f7-e432-ae22c2819a14"
      },
      "source": [
        "data"
      ],
      "execution_count": null,
      "outputs": [
        {
          "output_type": "execute_result",
          "data": {
            "text/plain": [
              "array([('', 0, 0.), ('', 0, 0.), ('', 0, 0.), ('', 0, 0.)],\n",
              "      dtype=[('name', '<U10'), ('age', '<i4'), ('weight', '<f8')])"
            ]
          },
          "metadata": {},
          "execution_count": 5
        }
      ]
    },
    {
      "cell_type": "code",
      "metadata": {
        "id": "edNCcZ4SdG74"
      },
      "source": [
        "data['name'] = name\n",
        "data['age'] = age\n",
        "data['weight'] = weight"
      ],
      "execution_count": null,
      "outputs": []
    },
    {
      "cell_type": "code",
      "metadata": {
        "colab": {
          "base_uri": "https://localhost:8080/"
        },
        "id": "BEP2qj7wdG75",
        "outputId": "0085d63c-850a-4dee-9684-72a99cf73533"
      },
      "source": [
        "data"
      ],
      "execution_count": null,
      "outputs": [
        {
          "output_type": "execute_result",
          "data": {
            "text/plain": [
              "array([('Alice', 25, 55. ), ('Bob', 45, 85.5), ('Cathy', 37, 68. ),\n",
              "       ('Doug', 19, 61.5)],\n",
              "      dtype=[('name', '<U10'), ('age', '<i4'), ('weight', '<f8')])"
            ]
          },
          "metadata": {},
          "execution_count": 7
        }
      ]
    },
    {
      "cell_type": "code",
      "metadata": {
        "colab": {
          "base_uri": "https://localhost:8080/"
        },
        "id": "1k2mvNyedG76",
        "outputId": "2c93caf2-ba10-4fde-ef91-fb2017ef70e7"
      },
      "source": [
        "# Get all names\n",
        "data['name'] "
      ],
      "execution_count": null,
      "outputs": [
        {
          "output_type": "execute_result",
          "data": {
            "text/plain": [
              "array(['Alice', 'Bob', 'Cathy', 'Doug'], dtype='<U10')"
            ]
          },
          "metadata": {},
          "execution_count": 19
        }
      ]
    },
    {
      "cell_type": "code",
      "metadata": {
        "id": "GPDHEZX_dG76"
      },
      "source": [
        "data_name = data['name']\n",
        "data_name = data_name[::-1]"
      ],
      "execution_count": null,
      "outputs": []
    },
    {
      "cell_type": "code",
      "metadata": {
        "colab": {
          "base_uri": "https://localhost:8080/"
        },
        "id": "wjTYVBrHdG77",
        "outputId": "b794256f-b567-4a7b-c0fe-a74cd17f9a1a"
      },
      "source": [
        "data_name"
      ],
      "execution_count": null,
      "outputs": [
        {
          "output_type": "execute_result",
          "data": {
            "text/plain": [
              "array(['Doug', 'Cathy', 'Bob', 'Alice'], dtype='<U10')"
            ]
          },
          "metadata": {},
          "execution_count": 21
        }
      ]
    },
    {
      "cell_type": "code",
      "metadata": {
        "colab": {
          "base_uri": "https://localhost:8080/"
        },
        "id": "UxP_IyQfdG78",
        "outputId": "a7bc38a3-abe6-49f9-82f7-a707a85706e5"
      },
      "source": [
        "type(data_name)"
      ],
      "execution_count": null,
      "outputs": [
        {
          "output_type": "execute_result",
          "data": {
            "text/plain": [
              "numpy.ndarray"
            ]
          },
          "metadata": {},
          "execution_count": 22
        }
      ]
    },
    {
      "cell_type": "code",
      "metadata": {
        "colab": {
          "base_uri": "https://localhost:8080/"
        },
        "id": "edygDYfqdG78",
        "outputId": "5b0a7e59-729e-47e8-f235-c3f5fa556d84"
      },
      "source": [
        "data"
      ],
      "execution_count": null,
      "outputs": [
        {
          "output_type": "execute_result",
          "data": {
            "text/plain": [
              "array([('Alice', 25, 55. ), ('Bob', 45, 85.5), ('Cathy', 37, 68. ),\n",
              "       ('Doug', 19, 61.5)],\n",
              "      dtype=[('name', '<U10'), ('age', '<i4'), ('weight', '<f8')])"
            ]
          },
          "metadata": {},
          "execution_count": 11
        }
      ]
    },
    {
      "cell_type": "code",
      "metadata": {
        "colab": {
          "base_uri": "https://localhost:8080/"
        },
        "id": "VJWtXbuTdG79",
        "outputId": "65d45fb2-64e7-429b-948d-074836e87f72"
      },
      "source": [
        "data[0]"
      ],
      "execution_count": null,
      "outputs": [
        {
          "output_type": "execute_result",
          "data": {
            "text/plain": [
              "('Alice', 25, 55.)"
            ]
          },
          "metadata": {},
          "execution_count": 23
        }
      ]
    },
    {
      "cell_type": "code",
      "metadata": {
        "colab": {
          "base_uri": "https://localhost:8080/"
        },
        "id": "wMQh2jTjdG79",
        "outputId": "dedd4e6d-e53d-4364-9489-6a30ad22e0d6"
      },
      "source": [
        "data['weight'].max()"
      ],
      "execution_count": null,
      "outputs": [
        {
          "output_type": "execute_result",
          "data": {
            "text/plain": [
              "85.5"
            ]
          },
          "metadata": {},
          "execution_count": 24
        }
      ]
    },
    {
      "cell_type": "code",
      "metadata": {
        "colab": {
          "base_uri": "https://localhost:8080/"
        },
        "id": "qwajQksS2ZHC",
        "outputId": "b027306a-6e81-40f3-d64f-f8edc4b9c46c"
      },
      "source": [
        "data[data['age'] > 20]"
      ],
      "execution_count": null,
      "outputs": [
        {
          "output_type": "execute_result",
          "data": {
            "text/plain": [
              "array([('Alice', 25, 55. ), ('Bob', 45, 85.5), ('Cathy', 37, 68. )],\n",
              "      dtype=[('name', '<U10'), ('age', '<i4'), ('weight', '<f8')])"
            ]
          },
          "metadata": {},
          "execution_count": 30
        }
      ]
    },
    {
      "cell_type": "code",
      "metadata": {
        "colab": {
          "base_uri": "https://localhost:8080/"
        },
        "id": "6Z2RbrC5dG7-",
        "outputId": "a23efb99-c17b-4066-cb37-4f2ea8db34d8"
      },
      "source": [
        "data[data['age'] > 20]['name']"
      ],
      "execution_count": null,
      "outputs": [
        {
          "output_type": "execute_result",
          "data": {
            "text/plain": [
              "array(['Alice', 'Bob', 'Cathy'], dtype='<U10')"
            ]
          },
          "metadata": {},
          "execution_count": 31
        }
      ]
    },
    {
      "cell_type": "code",
      "source": [],
      "metadata": {
        "id": "QY34ukz27LR1"
      },
      "execution_count": null,
      "outputs": []
    },
    {
      "cell_type": "code",
      "source": [
        "B = np.arange(100)\n",
        "B\n",
        "### How would you rescale your data to range from 0 to 1? "
      ],
      "metadata": {
        "colab": {
          "base_uri": "https://localhost:8080/"
        },
        "id": "6Hdkmcsav2uE",
        "outputId": "5386d0a5-e024-4aa1-c878-2cf10fc5ccd5"
      },
      "execution_count": null,
      "outputs": [
        {
          "output_type": "execute_result",
          "data": {
            "text/plain": [
              "array([ 0,  1,  2,  3,  4,  5,  6,  7,  8,  9, 10, 11, 12, 13, 14, 15, 16,\n",
              "       17, 18, 19, 20, 21, 22, 23, 24, 25, 26, 27, 28, 29, 30, 31, 32, 33,\n",
              "       34, 35, 36, 37, 38, 39, 40, 41, 42, 43, 44, 45, 46, 47, 48, 49, 50,\n",
              "       51, 52, 53, 54, 55, 56, 57, 58, 59, 60, 61, 62, 63, 64, 65, 66, 67,\n",
              "       68, 69, 70, 71, 72, 73, 74, 75, 76, 77, 78, 79, 80, 81, 82, 83, 84,\n",
              "       85, 86, 87, 88, 89, 90, 91, 92, 93, 94, 95, 96, 97, 98, 99])"
            ]
          },
          "metadata": {},
          "execution_count": 10
        }
      ]
    },
    {
      "cell_type": "code",
      "source": [
        "B1_ = B/B.max()\n",
        "B1_"
      ],
      "metadata": {
        "colab": {
          "base_uri": "https://localhost:8080/"
        },
        "id": "lUQX9absv6Nh",
        "outputId": "7582067e-12ed-4717-d5f8-fae8962d216d"
      },
      "execution_count": null,
      "outputs": [
        {
          "output_type": "execute_result",
          "data": {
            "text/plain": [
              "array([0.        , 0.01010101, 0.02020202, 0.03030303, 0.04040404,\n",
              "       0.05050505, 0.06060606, 0.07070707, 0.08080808, 0.09090909,\n",
              "       0.1010101 , 0.11111111, 0.12121212, 0.13131313, 0.14141414,\n",
              "       0.15151515, 0.16161616, 0.17171717, 0.18181818, 0.19191919,\n",
              "       0.2020202 , 0.21212121, 0.22222222, 0.23232323, 0.24242424,\n",
              "       0.25252525, 0.26262626, 0.27272727, 0.28282828, 0.29292929,\n",
              "       0.3030303 , 0.31313131, 0.32323232, 0.33333333, 0.34343434,\n",
              "       0.35353535, 0.36363636, 0.37373737, 0.38383838, 0.39393939,\n",
              "       0.4040404 , 0.41414141, 0.42424242, 0.43434343, 0.44444444,\n",
              "       0.45454545, 0.46464646, 0.47474747, 0.48484848, 0.49494949,\n",
              "       0.50505051, 0.51515152, 0.52525253, 0.53535354, 0.54545455,\n",
              "       0.55555556, 0.56565657, 0.57575758, 0.58585859, 0.5959596 ,\n",
              "       0.60606061, 0.61616162, 0.62626263, 0.63636364, 0.64646465,\n",
              "       0.65656566, 0.66666667, 0.67676768, 0.68686869, 0.6969697 ,\n",
              "       0.70707071, 0.71717172, 0.72727273, 0.73737374, 0.74747475,\n",
              "       0.75757576, 0.76767677, 0.77777778, 0.78787879, 0.7979798 ,\n",
              "       0.80808081, 0.81818182, 0.82828283, 0.83838384, 0.84848485,\n",
              "       0.85858586, 0.86868687, 0.87878788, 0.88888889, 0.8989899 ,\n",
              "       0.90909091, 0.91919192, 0.92929293, 0.93939394, 0.94949495,\n",
              "       0.95959596, 0.96969697, 0.97979798, 0.98989899, 1.        ])"
            ]
          },
          "metadata": {},
          "execution_count": 11
        }
      ]
    },
    {
      "cell_type": "code",
      "source": [
        "B = np.array([10,20,30,40])\n",
        "C = B - B.mean()\n",
        "C"
      ],
      "metadata": {
        "colab": {
          "base_uri": "https://localhost:8080/"
        },
        "id": "z6pcOK0D0C2n",
        "outputId": "4e1a3752-a114-4db2-f52c-3be784a7f8be"
      },
      "execution_count": null,
      "outputs": [
        {
          "output_type": "execute_result",
          "data": {
            "text/plain": [
              "array([-15.,  -5.,   5.,  15.])"
            ]
          },
          "metadata": {},
          "execution_count": 34
        }
      ]
    },
    {
      "cell_type": "code",
      "source": [
        "C.mean()"
      ],
      "metadata": {
        "colab": {
          "base_uri": "https://localhost:8080/"
        },
        "id": "-fn1wsRA0kEm",
        "outputId": "243703a5-9878-44bf-8b4c-b6b2338bf9f6"
      },
      "execution_count": null,
      "outputs": [
        {
          "output_type": "execute_result",
          "data": {
            "text/plain": [
              "0.0"
            ]
          },
          "metadata": {},
          "execution_count": 35
        }
      ]
    },
    {
      "cell_type": "code",
      "source": [
        "##How would you rescale your data to have zero mean and unit standard deviation?\n",
        "B2_ = (B - B.mean())/B.std()\n",
        "B2_"
      ],
      "metadata": {
        "colab": {
          "base_uri": "https://localhost:8080/"
        },
        "id": "vKS9veSCv9U-",
        "outputId": "9ccfcf2e-320d-4bf4-af25-e6451276fdfd"
      },
      "execution_count": null,
      "outputs": [
        {
          "output_type": "execute_result",
          "data": {
            "text/plain": [
              "array([-1.34164079, -0.4472136 ,  0.4472136 ,  1.34164079])"
            ]
          },
          "metadata": {},
          "execution_count": 36
        }
      ]
    },
    {
      "cell_type": "code",
      "source": [
        "B2_.mean()"
      ],
      "metadata": {
        "colab": {
          "base_uri": "https://localhost:8080/"
        },
        "id": "N6H30XsBwAK5",
        "outputId": "f048b7e0-f473-4da0-927d-942ad2467307"
      },
      "execution_count": null,
      "outputs": [
        {
          "output_type": "execute_result",
          "data": {
            "text/plain": [
              "0.0"
            ]
          },
          "metadata": {},
          "execution_count": 37
        }
      ]
    },
    {
      "cell_type": "code",
      "source": [
        "B2_.std()"
      ],
      "metadata": {
        "id": "6faq1jNt1YA5",
        "outputId": "09afab97-215c-4adc-cf58-ea8bd896ea21",
        "colab": {
          "base_uri": "https://localhost:8080/"
        }
      },
      "execution_count": null,
      "outputs": [
        {
          "output_type": "execute_result",
          "data": {
            "text/plain": [
              "1.0"
            ]
          },
          "metadata": {},
          "execution_count": 38
        }
      ]
    }
  ]
}