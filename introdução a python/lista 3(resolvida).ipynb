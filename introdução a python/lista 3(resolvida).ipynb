{
 "cells": [
  {
   "attachments": {},
   "cell_type": "markdown",
   "metadata": {},
   "source": [
    "Ler o arquivo 'starbucks.csv' de forma a ser contruir um dicionário, considerando: \n",
    "  - Cada atributo (definido na 1a linha do arquivo) seja uma das chaves do dicionário\n",
    "  - Armazenar os valores associados a cada chave e tratar o seu tipo\n",
    "  - Realizar algumas verificações e 'visualizações': \n",
    "    - Mostrar as 5 primeiras linhas do arquivo a partir do dicionário\n",
    "    - Mostrar o tipo de dados associado a cada coluna\n",
    "  - Crie uma função que retorne o valor máximo dos valores de um chave e teste para as colunas numéricas do dicionário\n",
    "  "
   ]
  },
  {
   "cell_type": "code",
   "execution_count": 24,
   "metadata": {},
   "outputs": [],
   "source": [
    "arquivo = \"C:/Users/laiss/OneDrive/Área de Trabalho/starbucks (1).csv\""
   ]
  },
  {
   "cell_type": "code",
   "execution_count": 48,
   "metadata": {},
   "outputs": [],
   "source": [
    "def ler_arquivo_csv(arquivo):\n",
    "    with open(arquivo, 'r', encoding='utf-8') as reader:\n",
    "        linhas = reader.readlines()\n",
    "    \n",
    "    atributos = linhas[0].strip().split(',')\n",
    "    dados = {}\n",
    "    \n",
    "    for atributo in atributos:\n",
    "        dados[atributo] = []\n",
    "\n",
    "    for linha in linhas[1:]:\n",
    "        valores = linha.strip().split(',')\n",
    "        for i, atributo in enumerate(atributos):\n",
    "            valor = valores[i].strip()\n",
    "            if valor.isdigit():\n",
    "                valor = int(valor)\n",
    "            elif valor.replace('.', '', 1).isdigit():\n",
    "                valor = float(valor)\n",
    "            dados[atributo].append(valor)\n",
    "    \n",
    "    return dados\n",
    "\n",
    "def mostrar_primeiras_linhas(dados, n):\n",
    "    for i in range(n):\n",
    "        linha = {}\n",
    "        for atributo, valores in dados.items():\n",
    "            linha[atributo] = valores[i]\n",
    "        print(linha)\n",
    "\n",
    "def mostrar_tipos_de_dados(dados):\n",
    "    for atributo, valores in dados.items():\n",
    "        tipo_dado = type(valores[0])\n",
    "        print(f\"{atributo}: {tipo_dado}\")\n",
    "\n",
    "def encontrar_valor_maximo(dados, chave):\n",
    "    valores = [valor for valor in dados[chave] if isinstance(valor, (int, float))]\n",
    "    if len(valores) > 0:\n",
    "        return max(valores)\n",
    "    else:\n",
    "        return None"
   ]
  },
  {
   "cell_type": "code",
   "execution_count": 49,
   "metadata": {},
   "outputs": [],
   "source": [
    "dados = ler_arquivo_csv(arquivo)\n"
   ]
  },
  {
   "cell_type": "code",
   "execution_count": 50,
   "metadata": {},
   "outputs": [
    {
     "name": "stdout",
     "output_type": "stream",
     "text": [
      "{'\"\"': '\"1\"', '\"item\"': '\"8-Grain Roll\"', '\"calories\"': 350, '\"fat\"': 8, '\"carb\"': 67, '\"fiber\"': 5, '\"protein\"': 10, '\"type\"': '\"bakery\"'}\n",
      "{'\"\"': '\"2\"', '\"item\"': '\"Apple Bran Muffin\"', '\"calories\"': 350, '\"fat\"': 9, '\"carb\"': 64, '\"fiber\"': 7, '\"protein\"': 6, '\"type\"': '\"bakery\"'}\n",
      "{'\"\"': '\"3\"', '\"item\"': '\"Apple Fritter\"', '\"calories\"': 420, '\"fat\"': 20, '\"carb\"': 59, '\"fiber\"': 0, '\"protein\"': 5, '\"type\"': '\"bakery\"'}\n",
      "{'\"\"': '\"4\"', '\"item\"': '\"Banana Nut Loaf\"', '\"calories\"': 490, '\"fat\"': 19, '\"carb\"': 75, '\"fiber\"': 4, '\"protein\"': 7, '\"type\"': '\"bakery\"'}\n",
      "{'\"\"': '\"5\"', '\"item\"': '\"Birthday Cake Mini Doughnut\"', '\"calories\"': 130, '\"fat\"': 6, '\"carb\"': 17, '\"fiber\"': 0, '\"protein\"': 0, '\"type\"': '\"bakery\"'}\n"
     ]
    }
   ],
   "source": [
    "mostrar_primeiras_linhas(dados,5)\n"
   ]
  },
  {
   "cell_type": "code",
   "execution_count": 51,
   "metadata": {},
   "outputs": [
    {
     "name": "stdout",
     "output_type": "stream",
     "text": [
      "\"\": <class 'str'>\n",
      "\"item\": <class 'str'>\n",
      "\"calories\": <class 'int'>\n",
      "\"fat\": <class 'int'>\n",
      "\"carb\": <class 'int'>\n",
      "\"fiber\": <class 'int'>\n",
      "\"protein\": <class 'int'>\n",
      "\"type\": <class 'str'>\n"
     ]
    }
   ],
   "source": [
    "mostrar_tipos_de_dados(dados)"
   ]
  },
  {
   "cell_type": "code",
   "execution_count": 52,
   "metadata": {},
   "outputs": [
    {
     "ename": "KeyError",
     "evalue": "'calories'",
     "output_type": "error",
     "traceback": [
      "\u001b[1;31m---------------------------------------------------------------------------\u001b[0m",
      "\u001b[1;31mKeyError\u001b[0m                                  Traceback (most recent call last)",
      "Cell \u001b[1;32mIn[52], line 2\u001b[0m\n\u001b[0;32m      1\u001b[0m chave \u001b[39m=\u001b[39m \u001b[39m\"\u001b[39m\u001b[39mcalories\u001b[39m\u001b[39m\"\u001b[39m\n\u001b[1;32m----> 2\u001b[0m valor_maximo \u001b[39m=\u001b[39m encontrar_valor_maximo(dados, chave)\n",
      "Cell \u001b[1;32mIn[48], line 36\u001b[0m, in \u001b[0;36mencontrar_valor_maximo\u001b[1;34m(dados, chave)\u001b[0m\n\u001b[0;32m     35\u001b[0m \u001b[39mdef\u001b[39;00m \u001b[39mencontrar_valor_maximo\u001b[39m(dados, chave):\n\u001b[1;32m---> 36\u001b[0m     valores \u001b[39m=\u001b[39m [valor \u001b[39mfor\u001b[39;00m valor \u001b[39min\u001b[39;00m dados[chave] \u001b[39mif\u001b[39;00m \u001b[39misinstance\u001b[39m(valor, (\u001b[39mint\u001b[39m, \u001b[39mfloat\u001b[39m))]\n\u001b[0;32m     37\u001b[0m     \u001b[39mif\u001b[39;00m \u001b[39mlen\u001b[39m(valores) \u001b[39m>\u001b[39m \u001b[39m0\u001b[39m:\n\u001b[0;32m     38\u001b[0m         \u001b[39mreturn\u001b[39;00m \u001b[39mmax\u001b[39m(valores)\n",
      "\u001b[1;31mKeyError\u001b[0m: 'calories'"
     ]
    }
   ],
   "source": [
    "chave = \"calories\"\n",
    "valor_maximo = encontrar_valor_maximo(dados, chave)\n"
   ]
  },
  {
   "cell_type": "code",
   "execution_count": 39,
   "metadata": {},
   "outputs": [
    {
     "ename": "KeyError",
     "evalue": "'fat'",
     "output_type": "error",
     "traceback": [
      "\u001b[1;31m---------------------------------------------------------------------------\u001b[0m",
      "\u001b[1;31mKeyError\u001b[0m                                  Traceback (most recent call last)",
      "Cell \u001b[1;32mIn[39], line 1\u001b[0m\n\u001b[1;32m----> 1\u001b[0m valor \u001b[39m=\u001b[39m encontrar_valor_maximo(verificar, chave)\n",
      "Cell \u001b[1;32mIn[29], line 36\u001b[0m, in \u001b[0;36mencontrar_valor_maximo\u001b[1;34m(dados, chave)\u001b[0m\n\u001b[0;32m     35\u001b[0m \u001b[39mdef\u001b[39;00m \u001b[39mencontrar_valor_maximo\u001b[39m(dados, chave):\n\u001b[1;32m---> 36\u001b[0m     valores \u001b[39m=\u001b[39m [valor \u001b[39mfor\u001b[39;00m valor \u001b[39min\u001b[39;00m dados[chave] \u001b[39mif\u001b[39;00m \u001b[39misinstance\u001b[39m(valor, (\u001b[39mint\u001b[39m, \u001b[39mfloat\u001b[39m))]\n\u001b[0;32m     37\u001b[0m     \u001b[39mreturn\u001b[39;00m \u001b[39mmax\u001b[39m(valores)\n",
      "\u001b[1;31mKeyError\u001b[0m: 'fat'"
     ]
    }
   ],
   "source": [
    "valor = encontrar_valor_maximo(verificar, chave)"
   ]
  }
 ],
 "metadata": {
  "kernelspec": {
   "display_name": "Python 3",
   "language": "python",
   "name": "python3"
  },
  "language_info": {
   "codemirror_mode": {
    "name": "ipython",
    "version": 3
   },
   "file_extension": ".py",
   "mimetype": "text/x-python",
   "name": "python",
   "nbconvert_exporter": "python",
   "pygments_lexer": "ipython3",
   "version": "3.11.3"
  },
  "orig_nbformat": 4
 },
 "nbformat": 4,
 "nbformat_minor": 2
}
