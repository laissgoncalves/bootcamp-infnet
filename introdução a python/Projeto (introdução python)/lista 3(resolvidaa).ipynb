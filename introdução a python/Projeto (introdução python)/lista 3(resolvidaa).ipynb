{
 "cells": [
  {
   "cell_type": "code",
   "execution_count": 10,
   "metadata": {},
   "outputs": [],
   "source": [
    "arquivo = \"C:/Users/laiss/OneDrive/Área de Trabalho/starbucks (1).csv\""
   ]
  },
  {
   "cell_type": "code",
   "execution_count": 86,
   "metadata": {},
   "outputs": [],
   "source": [
    "def ler_arquivo_csv(arquivo):\n",
    "    with open(arquivo, 'r', encoding='utf-8') as f:\n",
    "        linhas = f.readlines()\n",
    "\n",
    "    atributos = linhas[0].strip().split(',')\n",
    "    dados = {}\n",
    "\n",
    "    for atributo in atributos:\n",
    "        dados[atributo] = []\n",
    "\n",
    "    for linha in linhas[1:]:\n",
    "        valores = linha.strip().split(',')\n",
    "        for i, atributo in enumerate(atributos):\n",
    "            valor = valores[i].strip()\n",
    "            try:\n",
    "                valor = int(valor)\n",
    "            except ValueError:\n",
    "                try:\n",
    "                    valor = float(valor)\n",
    "                except ValueError:\n",
    "                    pass\n",
    "            dados[atributo].append(valor)\n",
    "\n",
    "    return dados\n",
    "\n",
    "\n",
    "def mostrar_primeiras_linhas(dados, n):\n",
    "    for i in range(n):\n",
    "        linha = {}\n",
    "        for atributo, valores in dados.items():\n",
    "            linha[atributo] = valores[i]\n",
    "        print(linha)\n",
    "\n",
    "\n",
    "def mostrar_tipos_de_dados(dados):\n",
    "    for atributo, valores in dados.items():\n",
    "        tipo_dado = type(valores[0])\n",
    "        print(f\"{atributo}: {tipo_dado}\")\n",
    "\n",
    "def encontrar_valor_maximo(dados, chave):\n",
    "    valores = [valor for valor in dados[chave] if isinstance(valor, (int, float))]\n",
    "    return max(valores)\n"
   ]
  },
  {
   "cell_type": "code",
   "execution_count": 87,
   "metadata": {},
   "outputs": [],
   "source": [
    "dados = ler_arquivo_csv(arquivo)\n",
    "\n"
   ]
  },
  {
   "cell_type": "code",
   "execution_count": 91,
   "metadata": {},
   "outputs": [
    {
     "name": "stdout",
     "output_type": "stream",
     "text": [
      "{'\"\"': '\"1\"', '\"item\"': '\"8-Grain Roll\"', '\"calories\"': 350, '\"fat\"': 8, '\"carb\"': 67, '\"fiber\"': 5, '\"protein\"': 10, '\"type\"': '\"bakery\"'}\n",
      "{'\"\"': '\"2\"', '\"item\"': '\"Apple Bran Muffin\"', '\"calories\"': 350, '\"fat\"': 9, '\"carb\"': 64, '\"fiber\"': 7, '\"protein\"': 6, '\"type\"': '\"bakery\"'}\n",
      "{'\"\"': '\"3\"', '\"item\"': '\"Apple Fritter\"', '\"calories\"': 420, '\"fat\"': 20, '\"carb\"': 59, '\"fiber\"': 0, '\"protein\"': 5, '\"type\"': '\"bakery\"'}\n",
      "{'\"\"': '\"4\"', '\"item\"': '\"Banana Nut Loaf\"', '\"calories\"': 490, '\"fat\"': 19, '\"carb\"': 75, '\"fiber\"': 4, '\"protein\"': 7, '\"type\"': '\"bakery\"'}\n",
      "{'\"\"': '\"5\"', '\"item\"': '\"Birthday Cake Mini Doughnut\"', '\"calories\"': 130, '\"fat\"': 6, '\"carb\"': 17, '\"fiber\"': 0, '\"protein\"': 0, '\"type\"': '\"bakery\"'}\n",
      "\"\": <class 'str'>\n",
      "\"item\": <class 'str'>\n",
      "\"calories\": <class 'int'>\n",
      "\"fat\": <class 'int'>\n",
      "\"carb\": <class 'int'>\n",
      "\"fiber\": <class 'int'>\n",
      "\"protein\": <class 'int'>\n",
      "\"type\": <class 'str'>\n"
     ]
    }
   ],
   "source": [
    "mostrar_primeiras_linhas(dados, 5)\n",
    "mostrar_tipos_de_dados(dados)\n",
    "chave = '\"calories\"'\n",
    "valor_maximo = encontrar_valor_maximo(dados, chave)\n",
    "\n",
    "\n",
    "\n",
    "\n"
   ]
  }
 ],
 "metadata": {
  "kernelspec": {
   "display_name": "Python 3",
   "language": "python",
   "name": "python3"
  },
  "language_info": {
   "codemirror_mode": {
    "name": "ipython",
    "version": 3
   },
   "file_extension": ".py",
   "mimetype": "text/x-python",
   "name": "python",
   "nbconvert_exporter": "python",
   "pygments_lexer": "ipython3",
   "version": "3.11.3"
  },
  "orig_nbformat": 4
 },
 "nbformat": 4,
 "nbformat_minor": 2
}
