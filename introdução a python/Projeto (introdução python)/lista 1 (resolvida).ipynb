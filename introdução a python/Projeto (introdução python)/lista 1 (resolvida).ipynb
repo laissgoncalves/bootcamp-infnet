{
  "nbformat": 4,
  "nbformat_minor": 0,
  "metadata": {
    "colab": {
      "provenance": []
    },
    "kernelspec": {
      "name": "python3",
      "display_name": "Python 3"
    },
    "language_info": {
      "name": "python"
    }
  },
  "cells": [
    {
      "cell_type": "markdown",
      "source": [
        "1)Passe por todos os números até 99 (começando em 1). Imprima 'fizz' para cada número que é divisível por 7, imprima 'buzz' para cada número divisível por 5 e imprima 'fizzbuzz' para cada número divisível por 7 e 5! Se o número não for divisível por 7 ou 5, imprima um travessão (‘-‘)!\n",
        "\n",
        "Para descubrir se um número x é divisível por y use operador (%):\n",
        "\n",
        "(x % y) == 0  retorna True se x é divísel por y, False se não for. \n",
        "Dica : use FOR , IF, ELIF, ELSE\n"
      ],
      "metadata": {
        "id": "TylU5kVqlTHM"
      }
    },
    {
      "cell_type": "code",
      "source": [
        "for i in range(1,100):\n",
        "  if i % 7 == 0:\n",
        "    print(\"fizz\")\n",
        "  elif i % 5 == 0:\n",
        "    print(\"buzz\")\n",
        "  elif i % 5 == 0 and i % 7 == 0:\n",
        "    print(\"fizzbuzz\")\n",
        "  else:\n",
        "    print(\"-\")"
      ],
      "metadata": {
        "colab": {
          "base_uri": "https://localhost:8080/"
        },
        "id": "Ru3P-oWNlVgi",
        "outputId": "a03c9735-02ee-4498-f403-afce909f100a"
      },
      "execution_count": null,
      "outputs": [
        {
          "output_type": "stream",
          "name": "stdout",
          "text": [
            "-\n",
            "-\n",
            "-\n",
            "-\n",
            "buzz\n",
            "-\n",
            "fizz\n",
            "-\n",
            "-\n",
            "buzz\n",
            "-\n",
            "-\n",
            "-\n",
            "fizz\n",
            "buzz\n",
            "-\n",
            "-\n",
            "-\n",
            "-\n",
            "buzz\n",
            "fizz\n",
            "-\n",
            "-\n",
            "-\n",
            "buzz\n",
            "-\n",
            "-\n",
            "fizz\n",
            "-\n",
            "buzz\n",
            "-\n",
            "-\n",
            "-\n",
            "-\n",
            "fizz\n",
            "-\n",
            "-\n",
            "-\n",
            "-\n",
            "buzz\n",
            "-\n",
            "fizz\n",
            "-\n",
            "-\n",
            "buzz\n",
            "-\n",
            "-\n",
            "-\n",
            "fizz\n",
            "buzz\n",
            "-\n",
            "-\n",
            "-\n",
            "-\n",
            "buzz\n",
            "fizz\n",
            "-\n",
            "-\n",
            "-\n",
            "buzz\n",
            "-\n",
            "-\n",
            "fizz\n",
            "-\n",
            "buzz\n",
            "-\n",
            "-\n",
            "-\n",
            "-\n",
            "fizz\n",
            "-\n",
            "-\n",
            "-\n",
            "-\n",
            "buzz\n",
            "-\n",
            "fizz\n",
            "-\n",
            "-\n",
            "buzz\n",
            "-\n",
            "-\n",
            "-\n",
            "fizz\n",
            "buzz\n",
            "-\n",
            "-\n",
            "-\n",
            "-\n",
            "buzz\n",
            "fizz\n",
            "-\n",
            "-\n",
            "-\n",
            "buzz\n",
            "-\n",
            "-\n",
            "fizz\n",
            "-\n"
          ]
        }
      ]
    },
    {
      "cell_type": "code",
      "source": [
        "# colocando dentro de lista\n",
        "lista_num = []\n",
        "lista_str = []\n",
        "\n",
        "for i in range(1,100):\n",
        "  lista_num.append(i)\n",
        "  if i % 7 == 0:\n",
        "    lista_str.append(\"fizz\")\n",
        "  elif i % 5 == 0:\n",
        "    lista_str.append(\"buzz\")\n",
        "  elif i % 7 == 0 and i % 5 == 0:\n",
        "    lista_str.append(\"fizzbuzz\")\n",
        "  else:\n",
        "    lista_str.append(\"-\")\n",
        "  \n",
        "print(lista_num)\n",
        "print(lista_str)\n",
        "  \n"
      ],
      "metadata": {
        "colab": {
          "base_uri": "https://localhost:8080/"
        },
        "id": "ZZ3OsJQYozJh",
        "outputId": "cfa375fe-821a-4ed6-e8e9-873a7d77d7c0"
      },
      "execution_count": null,
      "outputs": [
        {
          "output_type": "stream",
          "name": "stdout",
          "text": [
            "[1, 2, 3, 4, 5, 6, 7, 8, 9, 10, 11, 12, 13, 14, 15, 16, 17, 18, 19, 20, 21, 22, 23, 24, 25, 26, 27, 28, 29, 30, 31, 32, 33, 34, 35, 36, 37, 38, 39, 40, 41, 42, 43, 44, 45, 46, 47, 48, 49, 50, 51, 52, 53, 54, 55, 56, 57, 58, 59, 60, 61, 62, 63, 64, 65, 66, 67, 68, 69, 70, 71, 72, 73, 74, 75, 76, 77, 78, 79, 80, 81, 82, 83, 84, 85, 86, 87, 88, 89, 90, 91, 92, 93, 94, 95, 96, 97, 98, 99]\n",
            "['-', '-', '-', '-', 'buzz', '-', 'fizz', '-', '-', 'buzz', '-', '-', '-', 'fizz', 'buzz', '-', '-', '-', '-', 'buzz', 'fizz', '-', '-', '-', 'buzz', '-', '-', 'fizz', '-', 'buzz', '-', '-', '-', '-', 'fizz', '-', '-', '-', '-', 'buzz', '-', 'fizz', '-', '-', 'buzz', '-', '-', '-', 'fizz', 'buzz', '-', '-', '-', '-', 'buzz', 'fizz', '-', '-', '-', 'buzz', '-', '-', 'fizz', '-', 'buzz', '-', '-', '-', '-', 'fizz', '-', '-', '-', '-', 'buzz', '-', 'fizz', '-', '-', 'buzz', '-', '-', '-', 'fizz', 'buzz', '-', '-', '-', '-', 'buzz', 'fizz', '-', '-', '-', 'buzz', '-', '-', 'fizz', '-']\n"
          ]
        }
      ]
    },
    {
      "cell_type": "markdown",
      "source": [
        "2) Os filmes/séries podem ser classificados conforme o seu genero (ação,comédia, drama, terror etc). Considerando as classificações abaixo:\n",
        "\n",
        "a) Ação = Jumanji, Projeto Gemini,The old guard,WandaVision.\n",
        "\n",
        "b) Comédia = Jumanji,How I Met Your Mother,Friends, Amigos para sempre.\n",
        "\n",
        "c) Drama = Amigos para sempre, After,Game of Thrones, WandaVision.\n",
        "\n",
        "Tarefas:\n",
        "\n",
        "2.1 - Cria uma lista de listas para representar cada um dos conjuntos acima.\n",
        "\n",
        "2.2 - Usando a lista criada em 2.1, escreva um programa que \"print\" na tela a quantidade de caracteres de cada título.\n"
      ],
      "metadata": {
        "id": "3jGoa-jjukoE"
      }
    },
    {
      "cell_type": "code",
      "source": [
        "Ação = \"Jumanji, Projeto Gemini,The old guard,WandaVision\".split(\",\")\n",
        "Comédia = \"Jumanji,How I Met Your Mother,Friends, Amigos para sempres\".split(\",\")\n",
        "Drama = \"Amigos para sempre, After,Game of Thrones, WandaVision\".split(\",\")\n",
        "\n",
        "print(Ação)\n",
        "print(Comédia)\n",
        "print(Drama)\n",
        "\n",
        "Filmes = [Ação[0], Comédia[1], Drama[2]]\n",
        "\n"
      ],
      "metadata": {
        "colab": {
          "base_uri": "https://localhost:8080/"
        },
        "id": "idFO5z_avUJe",
        "outputId": "609e3f24-3d23-4fde-aead-c832512744d1"
      },
      "execution_count": null,
      "outputs": [
        {
          "output_type": "stream",
          "name": "stdout",
          "text": [
            "['Jumanji', ' Projeto Gemini', 'The old guard', 'WandaVision']\n",
            "['Jumanji', 'How I Met Your Mother', 'Friends', ' Amigos para sempres']\n",
            "['Amigos para sempre', ' After', 'Game of Thrones', ' WandaVision']\n"
          ]
        }
      ]
    },
    {
      "cell_type": "code",
      "source": [
        "from os import access\n",
        "for i in Filmes:\n",
        "  for v in i:\n",
        "    print(len(v.replace(\" \",\"\")))\n",
        "\n",
        "\n",
        "\n"
      ],
      "metadata": {
        "colab": {
          "base_uri": "https://localhost:8080/"
        },
        "id": "-5EVRCBzx2rp",
        "outputId": "94aef3e0-f114-4a10-b9ad-e3ef56e2233a"
      },
      "execution_count": null,
      "outputs": [
        {
          "output_type": "stream",
          "name": "stdout",
          "text": [
            "1\n",
            "1\n",
            "1\n",
            "1\n",
            "1\n",
            "1\n",
            "1\n",
            "1\n",
            "1\n",
            "1\n",
            "0\n",
            "1\n",
            "0\n",
            "1\n",
            "1\n",
            "1\n",
            "0\n",
            "1\n",
            "1\n",
            "1\n",
            "1\n",
            "0\n",
            "1\n",
            "1\n",
            "1\n",
            "1\n",
            "1\n",
            "1\n",
            "1\n",
            "1\n",
            "1\n",
            "1\n",
            "0\n",
            "1\n",
            "1\n",
            "0\n",
            "1\n",
            "1\n",
            "1\n",
            "1\n",
            "1\n",
            "1\n",
            "1\n"
          ]
        }
      ]
    },
    {
      "cell_type": "markdown",
      "source": [
        "3) Escreva um programa que calcule o fatorial de um número (entre com o número usando input). Sabendo que:\n",
        "\n",
        "a) n! = n(n-1)(n-2)...1\n",
        "\n",
        "b) 1! = 1\n",
        "\n",
        "c) 0! = 1\n",
        "\n",
        "Dica: Use While"
      ],
      "metadata": {
        "id": "Q9KXaCKW1bfy"
      }
    },
    {
      "cell_type": "code",
      "source": [
        "num = input(\"Digite um número inteiro e positivo: \")\n",
        "while num.isnumeric()==False or int(num) < 0:\n",
        "  num = input(\"Valor inválido! Digite um número inteiro e positivo: \")\n",
        "num = int(num)\n",
        "total=1\n",
        "if num > 0:\n",
        "  while num >= 1:\n",
        "    total *= num\n",
        "    num -= 1\n",
        "print(total)"
      ],
      "metadata": {
        "colab": {
          "base_uri": "https://localhost:8080/"
        },
        "id": "dpuDK65X1c0Q",
        "outputId": "cef97cbf-bd06-4241-81b5-8d37c96c5a24"
      },
      "execution_count": null,
      "outputs": [
        {
          "output_type": "stream",
          "name": "stdout",
          "text": [
            "Digite um número inteiro e positivo: 5\n",
            "120\n"
          ]
        }
      ]
    },
    {
      "cell_type": "markdown",
      "source": [
        "4) Desafio\n",
        "\n",
        "Considerando o problema 2):\n",
        "\n",
        "4.1) Crie um dicionário no qual cada chave representa o genero do filme;\n",
        "\n",
        "4.2) Em um sistema de recomendação baseado em conteúdos, deseja-se saber as classificações (generos) de cada filme. Faça um programa que usando o dicionário criado em 4.1, retorne os generos associados a cada filme. (Dica: use um outro dicionário).\n",
        "\n",
        "\n"
      ],
      "metadata": {
        "id": "7n7gfk_V7vhw"
      }
    },
    {
      "cell_type": "code",
      "source": [
        "dict_ = {\"Ação\": \"Jumanji, Projeto Gemini,The old guard,WandaVision\",\n",
        "\n",
        "\"Comédia\": \"Jumanji,How I Met Your Mother,Friends, Amigos para sempre\",\n",
        "\n",
        "\"Drama\": \"Amigos para sempre, After,Game of Thrones, WandaVision\"}\n",
        "\n",
        "print(dict_)\n"
      ],
      "metadata": {
        "colab": {
          "base_uri": "https://localhost:8080/"
        },
        "id": "-W8jiP2X7HqX",
        "outputId": "207bec09-396f-4a5a-82b8-f47a9039e3af"
      },
      "execution_count": null,
      "outputs": [
        {
          "output_type": "stream",
          "name": "stdout",
          "text": [
            "{'Ação': 'Jumanji, Projeto Gemini,The old guard,WandaVision', 'Comédia': 'Jumanji,How I Met Your Mother,Friends, Amigos para sempre', 'Drama': 'Amigos para sempre, After,Game of Thrones, WandaVision'}\n"
          ]
        }
      ]
    },
    {
      "cell_type": "code",
      "source": [
        "generos_por_filme = {}\n",
        "\n",
        "for genero, filmes in dict_.items():\n",
        "    lista_filmes = filmes.split(\",\")\n",
        "    for filme in lista_filmes:\n",
        "        filme = filme.strip()\n",
        "        if filme in generos_por_filme:\n",
        "            generos_por_filme[filme].append(genero)\n",
        "        else:\n",
        "            generos_por_filme[filme] = [genero]\n",
        "\n",
        "for filme, generos in generos_por_filme.items():\n",
        "    print(f\"{filme}: {', '.join(generos)}\")"
      ],
      "metadata": {
        "colab": {
          "base_uri": "https://localhost:8080/"
        },
        "id": "4lTc1-Ek3WHX",
        "outputId": "62dc9c10-fde0-489f-fd99-f44bc3ba3975"
      },
      "execution_count": null,
      "outputs": [
        {
          "output_type": "stream",
          "name": "stdout",
          "text": [
            "Jumanji: Ação, Comédia\n",
            "Projeto Gemini: Ação\n",
            "The old guard: Ação\n",
            "WandaVision: Ação, Drama\n",
            "How I Met Your Mother: Comédia\n",
            "Friends: Comédia\n",
            "Amigos para sempre: Comédia, Drama\n",
            "After: Drama\n",
            "Game of Thrones: Drama\n"
          ]
        }
      ]
    },
    {
      "cell_type": "code",
      "source": [
        "print(Filmes)"
      ],
      "metadata": {
        "colab": {
          "base_uri": "https://localhost:8080/"
        },
        "id": "6myiRIh1uR5q",
        "outputId": "a240cb78-efb1-4a0b-bdc7-00097c42959b"
      },
      "execution_count": null,
      "outputs": [
        {
          "output_type": "stream",
          "name": "stdout",
          "text": [
            "['Jumanji', 'How I Met Your Mother', 'Game of Thrones']\n"
          ]
        }
      ]
    },
    {
      "cell_type": "code",
      "source": [
        "# neste caso usa-se a lógica de colocar os filmes como chave e as chaves como tipo e cria um novo dicionário para trazer essa informação\n",
        "\n",
        "filmes_tipo = {}\n",
        "\n",
        "for i,v in dict_.items(): # itera os dois valores chave e tipo lendo atraves da função items\n",
        "  v_lista = v.split(\",\") # precisa transformar os filmes em lista para poder trabalhar com ele\n",
        "  for f in v_lista: # f é como o index (filme, criada na v_lista)\n",
        "    if f in filmes_tipo: # condição, se o filme está no novo dicionario, chama a chave filme(f) e add o tipo i ao novo dicionário, tendo base nas chaves do primeiro dicionário sitado\n",
        "      filmes_tipo[f] = []\n",
        "      filmes_tipo[f].append(i)\n",
        "    else:            # caso não esteja, que no caso não vai estar, cria-se o novo dicionário\n",
        "      filmes_tipo[f] = [i]\n",
        "\n",
        "for f,i in filmes_tipo.items(): # percorrendo e iterando a leitura do novo dicionário\n",
        "  print(f\"{f} : {i}\")\n",
        "\n",
        "  "
      ],
      "metadata": {
        "colab": {
          "base_uri": "https://localhost:8080/"
        },
        "id": "Lrg8zi2MAFDP",
        "outputId": "1e19697f-9dde-4570-ddea-ccf5cb2dd92d"
      },
      "execution_count": null,
      "outputs": [
        {
          "output_type": "stream",
          "name": "stdout",
          "text": [
            "Jumanji : ['Comédia']\n",
            " Projeto Gemini : ['Ação']\n",
            "The old guard : ['Ação']\n",
            "WandaVision : ['Ação']\n",
            "How I Met Your Mother : ['Comédia']\n",
            "Friends : ['Comédia']\n",
            " Amigos para sempre : ['Comédia']\n",
            "Amigos para sempre : ['Drama']\n",
            " After : ['Drama']\n",
            "Game of Thrones : ['Drama']\n",
            " WandaVision : ['Drama']\n"
          ]
        }
      ]
    },
    {
      "cell_type": "code",
      "source": [],
      "metadata": {
        "id": "OqKA6OzDuPf0"
      },
      "execution_count": null,
      "outputs": []
    },
    {
      "cell_type": "markdown",
      "source": [],
      "metadata": {
        "id": "35Oa6ope7GVM"
      }
    }
  ]
}