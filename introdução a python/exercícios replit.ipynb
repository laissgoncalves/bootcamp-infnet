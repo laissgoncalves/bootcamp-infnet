{
 "cells": [
  {
   "cell_type": "code",
   "execution_count": null,
   "metadata": {},
   "outputs": [],
   "source": [
    "#1 Faça um Programa que peça dois números e imprima o maior deles.\n",
    "num = []\n",
    "\n",
    "for i in range(2):\n",
    "  num1 = input(\"insira número\")\n",
    "  num.append(num1)\n",
    "print(max(num))\n",
    "\n"
   ]
  },
  {
   "cell_type": "code",
   "execution_count": null,
   "metadata": {},
   "outputs": [],
   "source": [
    "arquivo = \"C:\\Users\\laiss\\OneDrive\\Arquivos\\analista de dados\\introdução a python\\Alice.txt\""
   ]
  },
  {
   "cell_type": "code",
   "execution_count": null,
   "metadata": {},
   "outputs": [],
   "source": [
    "file = open(arquivo, \"r\")\n"
   ]
  },
  {
   "cell_type": "code",
   "execution_count": null,
   "metadata": {},
   "outputs": [],
   "source": [
    "for line in file:\n",
    "  linha_sem_espaco = line.replace(\" \",\"\")\n",
    "  letra_linha = len(linha_sem_espaco)\n",
    "count = 0\n",
    "while line != \" \":\n",
    "    count += 1\n",
    "print(count * letra_linha)"
   ]
  },
  {
   "cell_type": "code",
   "execution_count": null,
   "metadata": {},
   "outputs": [],
   "source": [
    "#2 Faça um Programa que peça um valor e mostre na tela se o valor é positivo ou negativo.\n",
    "num = float(input(\"coloque um número\"))\n",
    "\n",
    "if num > 0 :\n",
    "  print(\"valor positivo\")\n",
    "elif num < 0 :\n",
    "  print(\"valor negativo\")\n",
    "else:\n",
    "  print(\"0\")\n",
    "\n",
    "\n"
   ]
  },
  {
   "cell_type": "code",
   "execution_count": null,
   "metadata": {},
   "outputs": [],
   "source": [
    "#3 Faça um Programa que verifique se uma letra digitada é \"F\" ou \"M\". Conforme a letra escrever: F - Feminino, M - Masculino, Sexo Inválido.\n",
    "Sexo = str(input(\"escreva primeira letra do seu Sexo em maúsculo\"))\n",
    "\n",
    "if Sexo == \"F\":\n",
    "  print(\"Feminino\")\n",
    "elif Sexo == \"M\":\n",
    "  print(\"Masculino\")\n",
    "else:\n",
    "  print(\"Sexo Inválido\")\n"
   ]
  },
  {
   "cell_type": "code",
   "execution_count": null,
   "metadata": {},
   "outputs": [],
   "source": [
    "#3 Faça um Programa que verifique se uma letra digitada é \"F\" ou \"M\". Conforme a letra escrever: F - Feminino, M - Masculino, Sexo Inválido.\n",
    "Sexo = str(input(\"escreva primeira letra do seu Sexo em maúsculo\"))\n",
    "\n",
    "if Sexo == \"F\":\n",
    "  print(\"Feminino\")\n",
    "elif Sexo == \"M\":\n",
    "  print(\"Masculino\")\n",
    "else:\n",
    "  print(\"Sexo Inválido\")\n"
   ]
  },
  {
   "cell_type": "code",
   "execution_count": null,
   "metadata": {},
   "outputs": [],
   "source": [
    "#4 Faça um Programa que verifique se uma letra digitada é vogal ou consoante.\n",
    "\n",
    "vogal = \"a,A,e,E,I,i,O,o,U,u\".split(\",\")\n",
    "\n",
    "Letra = str(input(\"digite uma letra\"))\n",
    "if Letra in vogal:\n",
    "    print(\"vogal\")\n",
    "else:\n",
    "    print(\"Consoante\")\n",
    "\n",
    "\n",
    "\n"
   ]
  },
  {
   "cell_type": "code",
   "execution_count": null,
   "metadata": {},
   "outputs": [],
   "source": [
    "\n",
    "# Faça um programa que pergunte o preço de três produtos e informe qual produto você deve comprar, sabendo que a decisão é sempre pelo mais barato.\n",
    "\n",
    "Produtos = []\n",
    "\n",
    "x = float(input(\"Qual o preço do mesmo notebook na loja x\"))\n",
    "Produtos.append(x)\n",
    "y = float(input(\"Qual o preço do mesmo notebook na loja y\"))\n",
    "Produtos.append(y)\n",
    "z = float(input(\"Qual o preço do mesmo notebook na loja z\"))\n",
    "Produtos.append(z)\n",
    "\n",
    "print(min(Produtos))"
   ]
  },
  {
   "cell_type": "code",
   "execution_count": 69,
   "metadata": {},
   "outputs": [
    {
     "ename": "ValueError",
     "evalue": "could not convert string to float: 'kjl'",
     "output_type": "error",
     "traceback": [
      "\u001b[1;31m---------------------------------------------------------------------------\u001b[0m",
      "\u001b[1;31mValueError\u001b[0m                                Traceback (most recent call last)",
      "Cell \u001b[1;32mIn[69], line 15\u001b[0m\n\u001b[0;32m     13\u001b[0m Cálculo_gasolina \u001b[39m=\u001b[39m []\n\u001b[0;32m     14\u001b[0m Combustível \u001b[39m=\u001b[39m \u001b[39mstr\u001b[39m(\u001b[39minput\u001b[39m(\u001b[39m\"\u001b[39m\u001b[39mQual o combustível: A-álcool ou G-gasolina?\u001b[39m\u001b[39m\"\u001b[39m))\n\u001b[1;32m---> 15\u001b[0m Quant_Combustível \u001b[39m=\u001b[39m \u001b[39mfloat\u001b[39;49m(\u001b[39minput\u001b[39;49m(\u001b[39m\"\u001b[39;49m\u001b[39mQuantos litros?\u001b[39;49m\u001b[39m\"\u001b[39;49m))\n\u001b[0;32m     16\u001b[0m \u001b[39mif\u001b[39;00m Combustível \u001b[39m==\u001b[39m \u001b[39m\"\u001b[39m\u001b[39mA-álcool\u001b[39m\u001b[39m\"\u001b[39m:\n\u001b[0;32m     17\u001b[0m     Cálculo_alcool\u001b[39m.\u001b[39mappend(Quant_Combustível)\n",
      "\u001b[1;31mValueError\u001b[0m: could not convert string to float: 'kjl'"
     ]
    }
   ],
   "source": [
    "#6:\n",
    "# Um posto está vendendo combustíveis com a seguinte tabela de descontos:\n",
    "# Álcool:\n",
    "# até 20 litros, desconto de 3% por litro\n",
    "# acima de 20 litros, desconto de 5% por litro\n",
    "# Gasolina:\n",
    "# até 20 litros, desconto de 4% por litro\n",
    "# acima de 20 litros, desconto de 6% por litro\n",
    "\n",
    "# Escreva um algoritmo que leia o número de litros vendidos, o tipo de combustível (codificado da seguinte forma: A-álcool, G-gasolina),\n",
    "# calcule e imprima o valor a ser pago pelo cliente sabendo-se que o preço do litro da gasolina é R$ 2,50 o preço do litro do álcool é R$ 1,90.\n",
    "Cálculo_alcool = []\n",
    "Cálculo_gasolina = []\n",
    "Combustível = str(input(\"Qual o combustível: A-álcool ou G-gasolina?\"))\n",
    "Quant_Combustível = float(input(\"Quantos litros?\"))\n",
    "if Combustível == \"A-álcool\":\n",
    "    Cálculo_alcool.append(Quant_Combustível)\n",
    "    for i in Cálculo_alcool:\n",
    "        if i <= 20:\n",
    "            Total_pagar = i * 1.84\n",
    "        else:\n",
    "            Total_pagar = i * 1.80\n",
    "          \n",
    "    print(f\"Combustível: {Combustível} : Total a pagar: {Total_pagar}\")\n",
    "elif Combustível == \"G-gasolina\":\n",
    "    Cálculo_gasolina.append(Quant_Combustível)\n",
    "    for i in Cálculo_gasolina:\n",
    "        if i <= 20:\n",
    "            Total_pagar = i * 2.40\n",
    "        else:\n",
    "            Total_pagar = i * 2.35\n",
    "    print(f\"Combustível: {Combustível} , Total a pagar: {Total_pagar}\")\n",
    "else:\n",
    "    print(\"comando inválido\")\n",
    "\n",
    "\n"
   ]
  },
  {
   "cell_type": "code",
   "execution_count": 81,
   "metadata": {},
   "outputs": [
    {
     "name": "stdout",
     "output_type": "stream",
     "text": [
      "não é triangulo\n"
     ]
    }
   ],
   "source": [
    "#7:\n",
    "# Faça um Programa que peça os 3 lados de um triângulo. O programa deverá informar se os valores podem ser um triângulo. Indique, caso os lados formem um triângulo, se o mesmo é: equilátero, isósceles ou escaleno.\n",
    "# Dicas:\n",
    "# Três lados formam um triângulo quando a soma de quaisquer dois lados for maior que o terceiro;\n",
    "# Triângulo Equilátero: três lados iguais;\n",
    "# Triângulo Isósceles: quaisquer dois lados iguais;\n",
    "# Triângulo Escaleno: três lados diferentes;\n",
    "\n",
    "x = float(input(\"Informe o primeiro valor de lado: \"))\n",
    "y = float(input(\"Informe o segundo valor de lado: \"))\n",
    "z = float(input(\"Informe o terceiro valor de lado\"))\n",
    "\n",
    "if (x + y > z) and (x + z > y) and (z + y > x):\n",
    "\n",
    "    print(\"é um triângulo\")\n",
    "    \n",
    "    if x == y and x == z:\n",
    "        print(\"equilátero\")\n",
    "    elif x == y or x == z or z == y:\n",
    "        print(\"isósceles\")\n",
    "    else:\n",
    "        print (\"Escaleno\")\n",
    "else:\n",
    "    print(\"não é triangulo\")\n"
   ]
  },
  {
   "cell_type": "code",
   "execution_count": 73,
   "metadata": {},
   "outputs": [
    {
     "name": "stdout",
     "output_type": "stream",
     "text": [
      "Não é um triângulo\n"
     ]
    }
   ],
   "source": [
    "valores_lados = []\n",
    "\n",
    "x = float(input(\"Informe o primeiro valor de lado: \"))\n",
    "valores_lados.append(x)\n",
    "y = float(input(\"Informe o segundo valor de lado: \"))\n",
    "valores_lados.append(y)\n",
    "z = float(input(\"Informe o terceiro valor de lado: \"))\n",
    "valores_lados.append(z)\n",
    "\n",
    "if (x + y > z) and (x + z > y) and (y + z > x):\n",
    "    print(\"É um triângulo\")\n",
    "\n",
    "    if x == y == z:\n",
    "        print(\"Triângulo Equilátero\")\n",
    "    elif x == y or x == z or y == z:\n",
    "        print(\"Triângulo Isósceles\")\n",
    "    else:\n",
    "        print(\"Triângulo Escaleno\")\n",
    "else:\n",
    "    print(\"Não é um triângulo\")"
   ]
  },
  {
   "cell_type": "code",
   "execution_count": 5,
   "metadata": {},
   "outputs": [
    {
     "name": "stdout",
     "output_type": "stream",
     "text": [
      "5 x 0 = 0\n",
      "5 x 1 = 5\n",
      "5 x 2 = 10\n",
      "5 x 3 = 15\n",
      "5 x 4 = 20\n",
      "5 x 5 = 25\n",
      "5 x 6 = 30\n",
      "5 x 7 = 35\n",
      "5 x 8 = 40\n",
      "5 x 9 = 45\n",
      "5 x 10 = 50\n"
     ]
    }
   ],
   "source": [
    "#1 Desenvolva o gerador de tabuada, sem olhar o realizado em aula.\n",
    "\n",
    "num_tabuada = int(input(\"Qual número você deseja a tabuada? \"))\n",
    "\n",
    "for i in range(0,11):\n",
    "    valor = i * num_tabuada\n",
    "    print (f\"{num_tabuada} x {i} = {valor}\")\n",
    "\n",
    "\n",
    "\n"
   ]
  },
  {
   "cell_type": "code",
   "execution_count": null,
   "metadata": {},
   "outputs": [],
   "source": [
    "#2 Faça um programa que, dado um conjunto de N números, determine o menor valor, o maior valor e a soma dos valores.\n",
    "\n",
    "números_informados = input(\"Informe um conjuto de números separado por espaço: \")\n",
    "Lista_numeros = números_informados.split()\n",
    "Lista_numeros_float = [float(i) for i in Lista_numeros]\n",
    "print(max(Lista_numeros_float))\n",
    "print(min(Lista_numeros_float))\n",
    "print(sum(Lista_numeros_float))\n",
    "\n",
    "\n",
    "\n"
   ]
  },
  {
   "cell_type": "code",
   "execution_count": 9,
   "metadata": {},
   "outputs": [
    {
     "name": "stdout",
     "output_type": "stream",
     "text": [
      "A turma é Adulta\n",
      "Nome: ['lais', 'erika', 'tassia', 'tij', 'jkdasudh'] Idade respectivamente: [34, 30, 25, 50, 60]\n"
     ]
    }
   ],
   "source": [
    "#3 Faça um programa que peça para n pessoas a sua idade, ao final o programa devera verificar se a média de idade da turma varia entre 0 e 25,26 e 60 e maior que 60; e então, dizer se a turma é jovem, adulta ou idosa, conforme a média calculada.\n",
    "\n",
    "idade_ = []\n",
    "nome_ = []\n",
    "count = 0\n",
    "\n",
    "while count < 5:\n",
    "    N = str(input(\"Qual seu nome?\"))\n",
    "    nome_.append(N)\n",
    "    idade = int(input(\"Qual sua idade?\"))\n",
    "    idade_.append(idade)\n",
    "    count += 1\n",
    "média = sum(idade_)/len(idade_)\n",
    "if média <= 25:\n",
    "    print(\"A turma é Jovem\")\n",
    "elif (média > 25) & (média <= 60):\n",
    "    print(\"A turma é Adulta\")\n",
    "else:\n",
    "    print(\"A turma é idosa\")\n",
    "\n",
    "print(f\"Nome: {nome_} Idade respectivamente: {idade_}\")\n",
    "\n",
    "\n",
    "\n",
    "\n",
    "\n"
   ]
  },
  {
   "cell_type": "code",
   "execution_count": 87,
   "metadata": {},
   "outputs": [
    {
     "name": "stdout",
     "output_type": "stream",
     "text": [
      "Temperatura mínima da semana:19.3\n",
      "Temperatura máxima da semana: 50.0\n"
     ]
    }
   ],
   "source": [
    "#4 O Departamento Estadual de Meteorologia lhe contratou para desenvolver um programa que leia  um conjunto x de temperaturas, e informe ao final a menor e a maior temperaturas informadas, bem como a média das temperaturas.\n",
    "\n",
    "temperaturas = input(\"Informe as temperaturas de cada dia da semana separadas por espaço\")\n",
    "lista_temperaturas = temperaturas.split()\n",
    "lista_temperatura_float = [float(temperaturas) for temperaturas in lista_temperaturas] \n",
    "print(f\"Temperatura mínima da semana:{min(lista_temperatura_float)}\")\n",
    "print(f\"Temperatura máxima da semana: {max(lista_temperatura_float)}\")\n"
   ]
  },
  {
   "cell_type": "code",
   "execution_count": 8,
   "metadata": {},
   "outputs": [
    {
     "name": "stdout",
     "output_type": "stream",
     "text": [
      "número [0-25]:0\n",
      "número [0-50]:1\n",
      "número [0-75]:1\n",
      "número [0-100]:1\n"
     ]
    }
   ],
   "source": [
    "#5 Faça um programa que leia uma quantidade indeterminada de números positivos e conte quantos deles estão nos seguintes intervalos: [0-25], [26-50], [51-75] e [76-100]. \n",
    "#A entrada de dados deverá terminar quando for lido um número negativo.\n",
    "count_25 = 0\n",
    "count_50 = 0\n",
    "count_75 = 0\n",
    "count_100 = 0\n",
    "\n",
    "while True:\n",
    "      x = float(input(\"Informe um número\"))\n",
    "      if (x >= 0) and (x <= 25):\n",
    "        count_25 += 1\n",
    "      elif (x>= 26) and (x<= 50):\n",
    "        count_50 += 1\n",
    "      elif (x>= 51) and (x<=75):\n",
    "        count_75 += 1\n",
    "      elif (x>=76) and (x<=100):\n",
    "        count_100 += 1\n",
    "      elif x < 0:\n",
    "         break\n",
    "\n",
    "print(f\"número [0-25]:{count_25}\")\n",
    "print(f\"número [0-50]:{count_50}\")\n",
    "print(f\"número [0-75]:{count_75}\")\n",
    "print(f\"número [0-100]:{count_100}\")\n",
    "\n",
    "\n",
    "\n",
    "\n"
   ]
  },
  {
   "cell_type": "code",
   "execution_count": 17,
   "metadata": {},
   "outputs": [],
   "source": [
    "# Faça um programa, com uma função que necessite de três argumentos, e que forneça a soma desses três argumentos.\n",
    "\n",
    "def valor_cesta (frutas, vinhos, queijos):\n",
    "    fruta = frutas * 2\n",
    "    vinho = vinhos * 10\n",
    "    queijo = queijos * 5\n",
    "    resultado = fruta + vinho + queijo\n",
    "    return resultado\n",
    "    "
   ]
  },
  {
   "cell_type": "code",
   "execution_count": 18,
   "metadata": {},
   "outputs": [
    {
     "data": {
      "text/plain": [
       "91"
      ]
     },
     "execution_count": 18,
     "metadata": {},
     "output_type": "execute_result"
    }
   ],
   "source": [
    "valor_cesta(3,6,5)"
   ]
  },
  {
   "cell_type": "code",
   "execution_count": 27,
   "metadata": {},
   "outputs": [],
   "source": [
    "# Faça um programa, com uma função que necessite de um argumento. \n",
    "#A função retorna o valor de caractere ‘P’, se seu argumento for positivo, e ‘N’, se seu argumento for zero ou negativo.i = 0\n",
    "\n",
    "def num_inteiro_positivo (a):\n",
    "       if a > 0:\n",
    "        return \"P\"\n",
    "       else:\n",
    "        return\"N\"\n",
    "\n",
    "\n",
    "\n",
    "\n",
    "\n",
    "\n",
    "\n"
   ]
  },
  {
   "cell_type": "code",
   "execution_count": 15,
   "metadata": {},
   "outputs": [
    {
     "name": "stdout",
     "output_type": "stream",
     "text": [
      "412.8\n",
      "516.0\n"
     ]
    }
   ],
   "source": [
    "# Faça um programa que use a função valorPagamento para determinar o valor a ser pago por uma prestação de uma conta.\n",
    "# O programa deverá solicitar ao usuário o valor da prestação e o número de dias em atraso e passar estes valores para a função valorPagamento,\n",
    "# que calculará o valor a ser pago e devolverá este valor ao programa que a chamou. O programa deverá então exibir o valor a ser pago na tela. \n",
    "#Após a execução o programa deverá voltar a pedir outro valor de prestação e assim continuar até que seja informado um valor igual a zero para a prestação.\n",
    "# Neste momento o programa deverá ser encerrado, exibindo o relatório do dia, que conterá a quantidade e o valor total de prestações pagas no dia. \n",
    "#O cálculo do valor a ser pago é feito da seguinte forma. Para pagamentos sem atraso, cobrar o valor da prestação. \n",
    "#Quando houver atraso, cobrar 3% de multa, mais 0,1% de juros por dia de atraso.\n",
    "\n",
    "# tem que ser assim, nessa ordem. senão não roda no py:\n",
    "def valorpagamento (valor_prestação,dias_atraso):\n",
    "    if dias_atraso == 0:\n",
    "        valor_apagar = valor_prestação\n",
    "    elif dias_atraso >= 1:\n",
    "        multa = valor_prestação * 0.03\n",
    "        juros = dias_atraso * 0.001\n",
    "        prestação_juros = valor_prestação * juros\n",
    "        valor_apagar = valor_prestação + multa + prestação_juros\n",
    "    return valor_apagar\n",
    "\n",
    "count = 0\n",
    "while True:\n",
    "    valor_prestação = float(input(\"Qual o valor da prestação?\"))\n",
    "    dias_atraso = int(input(\"Quantos dias de atraso?\"))\n",
    "    if valor_prestação == 0:\n",
    "        break\n",
    "    elif valor_prestação > 0:\n",
    "        valor_apagar = valorpagamento(valor_prestação,dias_atraso)\n",
    "        print(valor_apagar)\n",
    "        count += 1\n",
    "\n",
    "    \n",
    "\n",
    "    \n",
    "    \n"
   ]
  },
  {
   "cell_type": "code",
   "execution_count": 22,
   "metadata": {},
   "outputs": [
    {
     "name": "stdout",
     "output_type": "stream",
     "text": [
      "9\n"
     ]
    }
   ],
   "source": [
    "#-------------------> DIFICULDADE 1 <---------------------------\n",
    "# Um algoritmo capaz de fazer uma contagem de 1 ao 9.\n",
    "count = 0\n",
    "for i in range(1,10):\n",
    "  count += 1\n",
    "print(count)\n"
   ]
  },
  {
   "cell_type": "code",
   "execution_count": 37,
   "metadata": {},
   "outputs": [
    {
     "name": "stdout",
     "output_type": "stream",
     "text": [
      "50.24\n"
     ]
    }
   ],
   "source": [
    "# Recebe como entrada o raio do círculo em centímetros e vai mostrar no terminal pro usuário o resultado da fórmula para calcular a área.\n",
    "r = float(input(\"qual o raio? \"))\n",
    "def área_do_cículo (r):\n",
    "    a = 3.14 * (r**2)\n",
    "    return a\n",
    "a = área_do_cículo(r)\n",
    "print (a)\n",
    "\n"
   ]
  },
  {
   "cell_type": "code",
   "execution_count": null,
   "metadata": {},
   "outputs": [],
   "source": [
    "# Desenvolva um programa que leia um número inteiro qualquer e que apresente o número informado, seguido do seu antecessor e do seu sucessor\n",
    "\n",
    "# Desenvolva um programa que leia um número inteiro qualquer e que informe se este número é par ou impar\n",
    "\n",
    "# Um algoritmo que recebe uma temperatura em graus Celsius e retorna a temperatura em graus Fahrenheit.\n",
    "\n",
    "# Código capaz de criar uma lista que adiciona 5 número reais e imprimir a lista na ordem inversa.\n",
    "\n",
    "#-------------------> DIFICULDADE 2 <---------------------------\n",
    "# Desenvolva um programa que tenha uma função que verifique se um número inteiro qualquer é par ou impar\n",
    "\n",
    "# Desenvolva um programa que leia quatro notas e que apresente a média final\n",
    "\n",
    "# Considere o seguinte dicionário: {'m1': {'m2': 'Olá Mundo'}}. Carregue e apresente a mensagem \"Olá Mundo\" contida no dicionário\n",
    "\n",
    "# Algoritmo que recebe 5 valores de entrada, no final irá printar duas listas, a primeira com os valores informados e a segunda com todos os valores ao quadrado.\n",
    "\n",
    "# Programa que recebe como entrada 6 valores inteiros, no final ele exibe uma lista com os 6 valores informados e qual o seu maior elemento.\n",
    "\n",
    "# Algoritmo que solicita três lados de um triângulo, com esses dados o nosso programa deve informar a nomenclatura dos triângulos.\n",
    "# Triângulo Equilátero: três lados iguais;\n",
    "# Triângulo Isósceles: quaisquer dois lados iguais;\n",
    "# Triângulo Escaleno: três lados diferentes;\n",
    "\n",
    "# Programa capaz de solicitar 4 valores para representar a nota do aluno, em seguida armazenas os valores em uma lista, no fim mostrar as notas e a média..\n",
    "\n",
    "#-------------------> DIFICULDADE 3 <---------------------------\n",
    "\n",
    "# Desenvolva um programa que leia um número inteiro qualquer e que apresente o número informado com duas casas decimais\n",
    "\n",
    "# Programa consiste em uma estrutura de repetição que vai fazer a leitura de vários números inteiros e impares, quando a lista chegar a 5 elementos deve parar com a leitura.\n",
    "\n",
    "# Programa capaz de lidar com uma lista de 5 número inteiros e imprimir cada número juntamente com a sua posição na lista\n",
    "\n",
    "#-------------------> DIFICULDADE 4 <---------------------------\n",
    "# Programa que simula uma agenda de contatos e armazena-os em um dicionário, na questão temos 3 contatos e cada contato pode ter vários números.\n",
    "\n",
    "# Um programa que le um dicionario com as disciplinas (chaves) e a nota (elemento), o código e capaz de dizer qual foi a menor nota.\n",
    "\n",
    "# Em uma competição de salto em distância cada atleta tem direito a cinco saltos. No final da série de saltos de cada atleta, o melhor e o pior resultados são eliminados. O seu resultado fica sendo a média dos três valores restantes. Você deve fazer um programa que receba o nome e as cinco distâncias alcançadas pelo atleta em seus saltos e depois informe a média dos saltos conforme a descrição acima informada (retirar o melhor e o pior salto e depois calcular a média). Faça uso de uma lista para armazenar os saltos. Os saltos são informados na ordem da execução, portanto não são ordenados. O programa deve ser encerrado quando não for informado o nome do atleta. A saída do programa deve ser conforme o exemplo abaixo:\n",
    "# Atleta: Rodrigo Curvêllo\n",
    "\n",
    "# Primeiro Salto: 6.5 m\n",
    "# Segundo Salto: 6.1 m\n",
    "# Terceiro Salto: 6.2 m\n",
    "# Quarto Salto: 5.4 m\n",
    "# Quinto Salto: 5.3 m\n",
    "\n",
    "# Melhor salto:  6.5 m\n",
    "# Pior salto: 5.3 m\n",
    "# Média dos demais saltos: 5.9 m\n",
    "\n",
    "# Resultado final:\n",
    "# Rodrigo Curvêllo: 5.9 m\n",
    "\n",
    "#-------------------> DIFICULDADE 5 <---------------------------\n",
    "# Desenvolva um jogo de acerte o número, onde o computador escolhe um número inteiro aleatório de 0 a 10, e o usuário tem 5 tentativas para adivinhar o número\n",
    "#a) Implemente um sistema de pontuação com o seguinte comportamento: se o usuário adivinhar o número na primeira tentativa, receberá a pontuação máxima (ex. 100 pontos); se o usuário adivinhar o número na última tentativa, receberá a pontuação mínima (ex. 10 pontos); se o usuário não acertar o número, não receberá nenhum ponto.\n",
    "#b): Implemente um controle de erros. Caso o jogador digite um número fora da faixa permitida ou caracteres não numéricos, o sistema deve notificar o jogador e solicitar o input correto.\n",
    "#c): Implemente a opção de o usuário iniciar uma nova partida. Ao finalizar uma rodada, após o resultado final, o jogo deve perguntar se o jogador quer iniciar uma nova partida e, em caso negativo, encerrar a aplicação."
   ]
  }
 ],
 "metadata": {
  "kernelspec": {
   "display_name": "Python 3",
   "language": "python",
   "name": "python3"
  },
  "language_info": {
   "codemirror_mode": {
    "name": "ipython",
    "version": 3
   },
   "file_extension": ".py",
   "mimetype": "text/x-python",
   "name": "python",
   "nbconvert_exporter": "python",
   "pygments_lexer": "ipython3",
   "version": "3.11.3"
  },
  "orig_nbformat": 4
 },
 "nbformat": 4,
 "nbformat_minor": 2
}
