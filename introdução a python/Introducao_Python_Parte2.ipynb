{
  "nbformat": 4,
  "nbformat_minor": 0,
  "metadata": {
    "colab": {
      "provenance": [],
      "mount_file_id": "1kkQ7atuIRCG9tvnruLNfpzLmny3kd2La",
      "authorship_tag": "ABX9TyNe4n9zPVKkn/jyuBUzTyR9",
      "include_colab_link": true
    },
    "kernelspec": {
      "name": "python3",
      "display_name": "Python 3"
    },
    "language_info": {
      "name": "python"
    }
  },
  "cells": [
    {
      "cell_type": "markdown",
      "metadata": {
        "id": "view-in-github",
        "colab_type": "text"
      },
      "source": [
        "<a href=\"https://colab.research.google.com/github/CharlesPrado23/Bootcamp_TurmaNoite/blob/main/Conteudo_02/Introducao_Python_Parte2.ipynb\" target=\"_parent\"><img src=\"https://colab.research.google.com/assets/colab-badge.svg\" alt=\"Open In Colab\"/></a>"
      ]
    },
    {
      "cell_type": "markdown",
      "source": [
        "# FILE : OPEN, READ, WRITE"
      ],
      "metadata": {
        "id": "u_U9W2QfT1JF"
      }
    },
    {
      "cell_type": "code",
      "execution_count": 1,
      "metadata": {
        "id": "neHhyFClkP9Q"
      },
      "outputs": [],
      "source": [
        "Filename = '/content/drive/MyDrive/Colab Notebooks/Aulas3-4/Text.txt'"
      ]
    },
    {
      "cell_type": "code",
      "source": [
        "file1 = open(Filename, \"r\")\n",
        "print(file1.readline())\n",
        "file1.close()"
      ],
      "metadata": {
        "colab": {
          "base_uri": "https://localhost:8080/"
        },
        "id": "66xD9oG-ke7S",
        "outputId": "31a45e1a-1bae-44d3-b958-4aaba403da27"
      },
      "execution_count": 2,
      "outputs": [
        {
          "output_type": "stream",
          "name": "stdout",
          "text": [
            "Project Gutenberg's Alice's Adventures in Wonderland, by Lewis Carroll\n",
            "\n"
          ]
        }
      ]
    },
    {
      "cell_type": "code",
      "source": [
        "file1 = open(Filename, \"r\")\n",
        "count = 0\n",
        "# Using for loop\n",
        "print(\"Using for loop\")\n",
        "for line in file1:\n",
        "    count += 1\n",
        "    print(\"Line{}: {}\".format(count, line.strip()))\n",
        " \n",
        "# Closing files\n",
        "file1.close()"
      ],
      "metadata": {
        "colab": {
          "base_uri": "https://localhost:8080/"
        },
        "id": "jHCADU1Ck5Py",
        "outputId": "af5f28ec-6ee8-49db-dbae-e42ec02c1cb4"
      },
      "execution_count": 9,
      "outputs": [
        {
          "output_type": "stream",
          "name": "stdout",
          "text": [
            "Using for loop\n",
            "Line1: Project Gutenberg's Alice's Adventures in Wonderland, by Lewis Carroll\n",
            "Line2: \n",
            "Line3: This eBook is for the use of anyone anywhere at no cost and with\n",
            "Line4: almost no restrictions whatsoever.  You may copy it, give it away or\n",
            "Line5: re-use it under the terms of the Project Gutenberg License included\n",
            "Line6: with this eBook or online at www.gutenberg.org\n",
            "Line7: \n",
            "Line8: \n",
            "Line9: \n"
          ]
        }
      ]
    },
    {
      "cell_type": "code",
      "source": [
        "\n",
        "with open(Filename, 'r') as reader:\n",
        "  # Read and print the entire file line by line\n",
        "  line = reader.readline()\n",
        "  while line != '':  # The EOF char is an empty string\n",
        "    print(line, end='')\n",
        "    line = reader.readline()"
      ],
      "metadata": {
        "colab": {
          "base_uri": "https://localhost:8080/"
        },
        "id": "O4ui-98GnaZ2",
        "outputId": "27fa6382-6ed3-4b07-97fb-4da477230715"
      },
      "execution_count": 4,
      "outputs": [
        {
          "output_type": "stream",
          "name": "stdout",
          "text": [
            "Project Gutenberg's Alice's Adventures in Wonderland, by Lewis Carroll\n",
            "\n",
            "This eBook is for the use of anyone anywhere at no cost and with\n",
            "almost no restrictions whatsoever.  You may copy it, give it away or\n",
            "re-use it under the terms of the Project Gutenberg License included\n",
            "with this eBook or online at www.gutenberg.org\n",
            "\n",
            "\n",
            "\n"
          ]
        }
      ]
    },
    {
      "cell_type": "code",
      "source": [
        "with open(Filename, \"a\") as f:\n",
        "    f.writelines(\"Adicionando uma linha no arquivo\\n\")\n",
        "    \n",
        "### Open and Read File     \n",
        "file2 = open(Filename, \"r\")\n",
        "print(file2.readlines())\n",
        "file2.close()"
      ],
      "metadata": {
        "colab": {
          "base_uri": "https://localhost:8080/"
        },
        "id": "SIZdNWQ2n0wK",
        "outputId": "514495a8-6895-4805-8693-6da75322d89a"
      },
      "execution_count": 15,
      "outputs": [
        {
          "output_type": "stream",
          "name": "stdout",
          "text": [
            "[\"Project Gutenberg's Alice's Adventures in Wonderland, by Lewis Carroll\\n\", '\\n', 'This eBook is for the use of anyone anywhere at no cost and with\\n', 'almost no restrictions whatsoever.  You may copy it, give it away or\\n', 're-use it under the terms of the Project Gutenberg License included\\n', 'with this eBook or online at www.gutenberg.org\\n', 'Adicionando uma linha no arquivo\\n']\n"
          ]
        }
      ]
    },
    {
      "cell_type": "code",
      "source": [
        "file2 = open('Test.txt', \"r\")\n",
        "x = file2.readlines()\n",
        "print(type(x))\n",
        "x\n",
        "file2.close()"
      ],
      "metadata": {
        "colab": {
          "base_uri": "https://localhost:8080/"
        },
        "id": "HXBHjQjxn0sQ",
        "outputId": "4e537864-580f-4e49-f36a-23d27906de65"
      },
      "execution_count": 6,
      "outputs": [
        {
          "output_type": "stream",
          "name": "stdout",
          "text": [
            "<class 'list'>\n"
          ]
        }
      ]
    },
    {
      "cell_type": "code",
      "source": [],
      "metadata": {
        "id": "FWuIns_etSq_"
      },
      "execution_count": null,
      "outputs": []
    },
    {
      "cell_type": "markdown",
      "source": [
        "# CLASSES & OBJETOS"
      ],
      "metadata": {
        "id": "9rC4jNWYuJdc"
      }
    },
    {
      "cell_type": "markdown",
      "source": [
        "![image.png](data:image/png;base64,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)"
      ],
      "metadata": {
        "id": "9TCcCZCkUjT8"
      }
    },
    {
      "cell_type": "code",
      "source": [
        "#### Classes #### \n",
        "\n",
        "class Dog:\n",
        "  \"\"\"A simple attempt to model a dog.\"\"\"\n",
        "  \n",
        "\n",
        "  def __init__(self, name, age):\n",
        "   # \"\"\"Initialize name and age attributes.\"\"\"\n",
        "    self.name = name\n",
        "    self.age = age\n",
        "\n",
        "  #def __init__(self,breed):\n",
        "  #  self.breed = breed  \n",
        "\n",
        "  #def __init__(self,cor):\n",
        "  #  self.cor = cor\n",
        "\n",
        "    \n",
        "  def sit(self):\n",
        "  # \"\"\"Simulate a dog sitting in response to a command.\"\"\"\n",
        "    print(f\"{self.name} is now sitting.\")\n",
        "\n",
        "  def roll_over(self):\n",
        "  #\"\"\"Simulate rolling over in response to a command.\"\"\"\n",
        "     print(f\"{self.name} rolled over!\")"
      ],
      "metadata": {
        "id": "nl_TlN-WtOTS"
      },
      "execution_count": null,
      "outputs": []
    },
    {
      "cell_type": "code",
      "source": [
        "my_dog = Dog('Rex', 10)"
      ],
      "metadata": {
        "id": "4rRSo2EZtOKe"
      },
      "execution_count": null,
      "outputs": []
    },
    {
      "cell_type": "code",
      "source": [
        "my_dog.sit()"
      ],
      "metadata": {
        "colab": {
          "base_uri": "https://localhost:8080/"
        },
        "id": "hmcjKm1dtOGt",
        "outputId": "cd2bb47f-46a7-43b2-ddd0-80d8f28f63c1"
      },
      "execution_count": null,
      "outputs": [
        {
          "output_type": "stream",
          "name": "stdout",
          "text": [
            "Rex is now sitting.\n"
          ]
        }
      ]
    },
    {
      "cell_type": "code",
      "metadata": {
        "id": "FlTV_denVxBw"
      },
      "source": [
        "class Car:\n",
        "       ##\"\"\"A simple attempt to represent a car.\"\"\"\n",
        "\n",
        "       def __init__(self, make, model, year):\n",
        "           self.make = make\n",
        "           self.model = model\n",
        "           self.year = year\n",
        "           self.odometer_reading = 0\n",
        "\n",
        "       def get_descriptive_name(self):\n",
        "           long_name = f\"{self.year} {self.make} {self.model}\"\n",
        "           return long_name.title()\n",
        "\n",
        "       def read_odometer(self):\n",
        "           print(f\"This car has {self.odometer_reading} miles on it.\")\n",
        "\n",
        "       def update_odometer(self, mileage):\n",
        "           if mileage >= self.odometer_reading:\n",
        "               self.odometer_reading = mileage\n",
        "           else:\n",
        "               print(\"You can't roll back an odometer!\")\n",
        "\n",
        "       def increment_odometer(self, miles):\n",
        "           self.odometer_reading += miles\n",
        "\n",
        "\n",
        "\n",
        "\n",
        "\n"
      ],
      "execution_count": null,
      "outputs": []
    },
    {
      "cell_type": "code",
      "source": [
        "my_car = Car('Volks','Golf',2020)"
      ],
      "metadata": {
        "id": "dQvh4mQLddgo"
      },
      "execution_count": null,
      "outputs": []
    },
    {
      "cell_type": "code",
      "source": [
        "my_car.increment_odometer(10)\n",
        "my_car.read_odometer()"
      ],
      "metadata": {
        "colab": {
          "base_uri": "https://localhost:8080/"
        },
        "id": "Ds6866i4dlHC",
        "outputId": "1dc9f5f6-df43-4696-a27c-757c03df8438"
      },
      "execution_count": null,
      "outputs": [
        {
          "output_type": "stream",
          "name": "stdout",
          "text": [
            "This car has 10 miles on it.\n"
          ]
        }
      ]
    },
    {
      "cell_type": "code",
      "source": [
        "class ElectricCar(Car):\n",
        "       ##\"\"\"Represent aspects of a car, specific to electric vehicles.\"\"\"\n",
        "\n",
        "    def __init__(self, make, model, year):\n",
        "      ##\"\"\"Initialize attributes of the parent class.\"\"\"\n",
        "          super().__init__(make, model, year)\n",
        "          self.battery_size = 75\n",
        "\n",
        "    def read_odometer(self):\n",
        "           print(f\"This car has no odometer.\")          \n",
        "\n",
        "    def describe_battery(self):\n",
        "     #      \"\"\"Print a statement describing the battery size.\"\"\"\n",
        "           print(f\"This car has a {self.battery_size}-kWh battery.\")"
      ],
      "metadata": {
        "id": "Us7GPI-UtODf"
      },
      "execution_count": null,
      "outputs": []
    },
    {
      "cell_type": "code",
      "source": [
        "my_tesla = ElectricCar('tesla', 'model s', 2019)\n",
        "print(my_tesla.get_descriptive_name())\n",
        "my_tesla.describe_battery()"
      ],
      "metadata": {
        "id": "Cx885DIutOAc",
        "colab": {
          "base_uri": "https://localhost:8080/"
        },
        "outputId": "4f8512b5-14e6-47be-eea0-10154fb852d4"
      },
      "execution_count": null,
      "outputs": [
        {
          "output_type": "stream",
          "name": "stdout",
          "text": [
            "2019 Tesla Model S\n",
            "This car has a 75-kWh battery.\n"
          ]
        }
      ]
    },
    {
      "cell_type": "code",
      "source": [
        "my_tesla.read_odometer()"
      ],
      "metadata": {
        "id": "kp_m9OIV4Lbl",
        "colab": {
          "base_uri": "https://localhost:8080/"
        },
        "outputId": "a74109a1-cb5c-457c-e8db-5fb9b61de3a6"
      },
      "execution_count": null,
      "outputs": [
        {
          "output_type": "stream",
          "name": "stdout",
          "text": [
            "This car has no odometer.\n"
          ]
        }
      ]
    },
    {
      "cell_type": "code",
      "metadata": {
        "colab": {
          "base_uri": "https://localhost:8080/"
        },
        "id": "BnzQZfi1Xuq0",
        "outputId": "20df6cd7-6367-4db4-90db-0f53aa9035eb"
      },
      "source": [
        "class Car:\n",
        "       ##\"\"\"A simple attempt to represent a car.\"\"\"\n",
        "\n",
        "       def __init__(self, make, model, year):\n",
        "           self.make = make\n",
        "           self.model = model\n",
        "           self.year = year\n",
        "           self.odometer_reading = 0\n",
        "\n",
        "       def get_descriptive_name(self):\n",
        "           long_name = f\"{self.year} {self.make} {self.model}\"\n",
        "           return long_name.title()\n",
        "\n",
        "       def read_odometer(self):\n",
        "           print(f\"This car has {self.odometer_reading} miles on it.\")\n",
        "\n",
        "       def update_odometer(self, mileage):\n",
        "           if mileage >= self.odometer_reading:\n",
        "               self.odometer_reading = mileage\n",
        "           else:\n",
        "               print(\"You can't roll back an odometer!\")\n",
        "\n",
        "       def increment_odometer(self, miles):\n",
        "           self.odometer_reading += miles\n",
        "class Battery:\n",
        "       ##\"\"\"A simple attempt to model a battery for an electric car.\"\"\"\n",
        "\n",
        "      def __init__(self, battery_size=75):\n",
        "        ##   \"\"\"Initialize the battery's attributes.\"\"\"\n",
        "           self.battery_size = battery_size\n",
        "\n",
        "      def describe_battery(self):\n",
        "       #    \"\"\"Print a statement describing the battery size.\"\"\"\n",
        "           print(f\"This car has a {self.battery_size}-kWh battery.\")           \n",
        "\n",
        "class ElectricCar(Car):\n",
        "       ##\"\"\"Represent aspects of a car, specific to electric vehicles.\"\"\"\n",
        "\n",
        "     def __init__(self, make, model, year):\n",
        "      ##\"\"\"Initialize attributes of the parent class.\"\"\"\n",
        "         super().__init__(make, model, year)\n",
        "         ##self.battery_size = 75\n",
        "         self.battery = Battery()\n",
        "         \n",
        "     #def describe_battery(self):\n",
        "     #      \"\"\"Print a statement describing the battery size.\"\"\"\n",
        "     #    print(f\"This car has a {self.battery_size}-kWh battery.\")\n",
        "\n",
        "     def fill_gas_tank(self):\n",
        "       # \"\"\"Electric cars don't have gas tanks.\"\"\"\n",
        "         print(\"This car doesn't need a gas tank!\")\n",
        "\n",
        "my_tesla = ElectricCar('tesla', 'model s', 2019)\n",
        "print(my_tesla.get_descriptive_name())\n",
        "my_tesla.battery.describe_battery()\n"
      ],
      "execution_count": null,
      "outputs": [
        {
          "output_type": "stream",
          "text": [
            "2019 Tesla Model S\n",
            "This car has a 75-kWh battery.\n"
          ],
          "name": "stdout"
        }
      ]
    }
  ]
}