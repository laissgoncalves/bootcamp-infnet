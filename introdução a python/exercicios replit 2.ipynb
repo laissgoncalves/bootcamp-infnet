{
 "cells": [
  {
   "cell_type": "code",
   "execution_count": null,
   "metadata": {},
   "outputs": [],
   "source": [
    "#-------------------> DIFICULDADE 1 <---------------------------\n",
    "# Um algoritmo capaz de fazer uma contagem de 1 ao 9.\n",
    "count = 0\n",
    "for i in range(1,10):\n",
    "  count += 1\n",
    "print(count)\n"
   ]
  },
  {
   "cell_type": "code",
   "execution_count": null,
   "metadata": {},
   "outputs": [],
   "source": [
    "# Recebe como entrada o raio do círculo em centímetros e vai mostrar no terminal pro usuário o resultado da fórmula para calcular a área.\n",
    "r = float(input(\"qual o raio? \"))\n",
    "def área_do_cículo (r):\n",
    "    a = 3.14 * (r**2)\n",
    "    return a\n",
    "a = área_do_cículo(r)\n",
    "print (a)"
   ]
  },
  {
   "cell_type": "code",
   "execution_count": 1,
   "metadata": {},
   "outputs": [
    {
     "name": "stdout",
     "output_type": "stream",
     "text": [
      "4\n",
      "antecessor: 3\n",
      "antecessor: 5\n"
     ]
    }
   ],
   "source": [
    "# Desenvolva um programa que leia um número inteiro qualquer e que apresente o número informado, seguido do seu antecessor e do seu sucessor\n",
    "\n",
    "n = int(input(\"digite um número inteiro: \"))\n",
    "print(n)\n",
    "print(f\"antecessor: {n- 1}\")\n",
    "print(f\"antecessor: {n + 1}\")"
   ]
  },
  {
   "cell_type": "code",
   "execution_count": 8,
   "metadata": {},
   "outputs": [
    {
     "name": "stdout",
     "output_type": "stream",
     "text": [
      "número: 5 é impar\n"
     ]
    }
   ],
   "source": [
    "# Desenvolva um programa que leia um número inteiro qualquer e que informe se este número é par ou impar\n",
    "\n",
    "n = int(input(\"Digite um número inteiro: \"))\n",
    "if n%2 == 0:\n",
    "    print(f\"número: {n} é par\")\n",
    "elif n%2 != 0:\n",
    "    print(f\"número: {n} é impar\")\n"
   ]
  },
  {
   "cell_type": "code",
   "execution_count": 40,
   "metadata": {},
   "outputs": [
    {
     "name": "stdout",
     "output_type": "stream",
     "text": [
      "Temperatura em fahrenheit : 68.0\n"
     ]
    }
   ],
   "source": [
    "# Um algoritmo que recebe uma temperatura em graus Celsius e retorna a temperatura em graus Fahrenheit.\n",
    "celsius = float(input(\"Temperatura em celsius\"))\n",
    "def celsius_fahrenheit(celsius):\n",
    "    fahrenheit = (celsius * 9/5) + 32\n",
    "    return fahrenheit\n",
    "fahrenheit = celsius_fahrenheit(celsius)\n",
    "print(f\"Temperatura em fahrenheit : {fahrenheit}\")\n",
    "\n"
   ]
  },
  {
   "cell_type": "code",
   "execution_count": 50,
   "metadata": {},
   "outputs": [
    {
     "name": "stdout",
     "output_type": "stream",
     "text": [
      "[5.0, 4.0, 3.0, 2.0, 1.0]\n"
     ]
    }
   ],
   "source": [
    "# Código capaz de criar uma lista que adiciona 5 número reais e imprimir a lista na ordem inversa.\n",
    "lista_num = []\n",
    "count = 0\n",
    "while count < 5:\n",
    "    num = float(input(\"Digite um número: \"))\n",
    "    lista_num.append(num)\n",
    "    count += 1\n",
    "\n",
    "lista_num_reversa = list(reversed(lista_num))\n",
    "\n",
    "print(lista_num_reversa)\n",
    "\n"
   ]
  },
  {
   "cell_type": "code",
   "execution_count": 57,
   "metadata": {},
   "outputs": [
    {
     "name": "stdout",
     "output_type": "stream",
     "text": [
      "número: 5 é impar\n"
     ]
    }
   ],
   "source": [
    "#Desenvolva um programa que tenha uma função que verifique se um número inteiro qualquer é par ou impar\n",
    "\n",
    "\n",
    "n = int(input(\"Digite um número inteiro: \"))\n",
    "def inteiro_par_impar(n):\n",
    "    if n%2 == 0:\n",
    "        print_ = print(f\"número: {n} é par\")\n",
    "    else:\n",
    "        print_ = print(f\"número: {n} é impar\")\n",
    "    return print_\n",
    "print_ = inteiro_par_impar(n)"
   ]
  },
  {
   "cell_type": "code",
   "execution_count": null,
   "metadata": {},
   "outputs": [],
   "source": [
    "# Desenvolva um programa que leia quatro notas e que apresente a média final\n"
   ]
  },
  {
   "cell_type": "code",
   "execution_count": 60,
   "metadata": {},
   "outputs": [
    {
     "name": "stdout",
     "output_type": "stream",
     "text": [
      "[21.11111111111111, 28.333333333333336, 32.22222222222222, 37.77777777777778, 40.55555555555556, 48.88888888888889]\n"
     ]
    }
   ],
   "source": [
    "lista_F = [70,83,90,100,105,120]\n",
    "lista_C = []\n",
    "\n",
    "for i in lista_F:\n",
    "  i = (i-32)*(5/9)\n",
    "  lista_C.append(i)\n",
    "print(lista_C)"
   ]
  },
  {
   "cell_type": "code",
   "execution_count": 61,
   "metadata": {},
   "outputs": [],
   "source": [
    "lista_F = [70,83,90,100,105,120]\n",
    "lista_C = []\n",
    "\n",
    "def fahrenheit_celsius (fahrenheit):\n",
    "  for i in lista_F:\n",
    "    C = (i -32) *(5/9)\n",
    "    lista_C.append(C)\n",
    "    print(lista_C)"
   ]
  },
  {
   "cell_type": "code",
   "execution_count": 74,
   "metadata": {},
   "outputs": [],
   "source": [
    "class user():\n",
    "\n",
    "    def __init__(self, first_name, last_name, age, email):\n",
    "        self.first_name = first_name\n",
    "        self.last_name = last_name\n",
    "        self.age = age\n",
    "        self.email = email\n",
    "    def describe_user (self):\n",
    "        print(f\"name: {self.first_name} {self.last_name} \\nage: {self.age} \\nemail: {self.email}\")\n",
    "    def greet_user(self):\n",
    "        print(f\"Welcome {self.first_name} {self.last_name}!\")\n",
    "\n"
   ]
  },
  {
   "cell_type": "code",
   "execution_count": 75,
   "metadata": {},
   "outputs": [
    {
     "name": "stdout",
     "output_type": "stream",
     "text": [
      "name: lais Santos \n",
      "age: 34 \n",
      "email: laissgoncalves_@hotmail.com\n",
      "Welcome lais Santos!\n"
     ]
    }
   ],
   "source": [
    "sumário = user(\"lais\", \"Santos\", \"34\", \"laissgoncalves_@hotmail.com\")\n",
    "sumário.describe_user()\n",
    "sumário.greet_user()"
   ]
  }
 ],
 "metadata": {
  "kernelspec": {
   "display_name": "Python 3",
   "language": "python",
   "name": "python3"
  },
  "language_info": {
   "codemirror_mode": {
    "name": "ipython",
    "version": 3
   },
   "file_extension": ".py",
   "mimetype": "text/x-python",
   "name": "python",
   "nbconvert_exporter": "python",
   "pygments_lexer": "ipython3",
   "version": "3.11.3"
  },
  "orig_nbformat": 4
 },
 "nbformat": 4,
 "nbformat_minor": 2
}
